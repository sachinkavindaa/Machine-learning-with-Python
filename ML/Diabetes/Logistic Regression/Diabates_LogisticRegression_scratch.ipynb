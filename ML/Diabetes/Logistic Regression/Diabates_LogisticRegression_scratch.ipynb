{
  "nbformat": 4,
  "nbformat_minor": 0,
  "metadata": {
    "colab": {
      "name": "Diabates_LogisticRegression_scratch.ipynb",
      "provenance": []
    },
    "kernelspec": {
      "name": "python3",
      "display_name": "Python 3"
    },
    "accelerator": "GPU"
  },
  "cells": [
    {
      "cell_type": "code",
      "metadata": {
        "id": "DaQ8yZIlGF22"
      },
      "source": [
        "import numpy as np\r\n",
        "import pandas as pd\r\n",
        "import seaborn as sns\r\n",
        "import tensorflow as tf\r\n",
        "from tensorflow import keras\r\n",
        "from matplotlib import pyplot as plt\r\n",
        "from sklearn import preprocessing\r\n",
        "from keras.models import Sequential\r\n",
        "from keras.layers import Dense\r\n",
        "from keras.optimizers import SGD\r\n",
        "%matplotlib inline\r\n"
      ],
      "execution_count": 66,
      "outputs": []
    },
    {
      "cell_type": "code",
      "metadata": {
        "colab": {
          "base_uri": "https://localhost:8080/"
        },
        "id": "4dcw9M3iIAPQ",
        "outputId": "86fa22c3-4844-4414-ac20-b7a1c83ebaff"
      },
      "source": [
        "!git clone 'https://github.com/sachinkavindaa/Machine-learning-with-Python'"
      ],
      "execution_count": 67,
      "outputs": [
        {
          "output_type": "stream",
          "text": [
            "fatal: destination path 'Machine-learning-with-Python' already exists and is not an empty directory.\n"
          ],
          "name": "stdout"
        }
      ]
    },
    {
      "cell_type": "code",
      "metadata": {
        "colab": {
          "base_uri": "https://localhost:8080/",
          "height": 419
        },
        "id": "8-3TtONOICRv",
        "outputId": "882541bb-4223-4fdb-b53c-c3f3f68d3bf0"
      },
      "source": [
        "df = pd.read_csv('/content/Machine-learning-with-Python/ML/Diabetes/diabetes.csv')\r\n",
        "df"
      ],
      "execution_count": 68,
      "outputs": [
        {
          "output_type": "execute_result",
          "data": {
            "text/html": [
              "<div>\n",
              "<style scoped>\n",
              "    .dataframe tbody tr th:only-of-type {\n",
              "        vertical-align: middle;\n",
              "    }\n",
              "\n",
              "    .dataframe tbody tr th {\n",
              "        vertical-align: top;\n",
              "    }\n",
              "\n",
              "    .dataframe thead th {\n",
              "        text-align: right;\n",
              "    }\n",
              "</style>\n",
              "<table border=\"1\" class=\"dataframe\">\n",
              "  <thead>\n",
              "    <tr style=\"text-align: right;\">\n",
              "      <th></th>\n",
              "      <th>Pregnancies</th>\n",
              "      <th>Glucose</th>\n",
              "      <th>Blood_Pressure</th>\n",
              "      <th>Skin_Thickness</th>\n",
              "      <th>Insulin</th>\n",
              "      <th>BMI</th>\n",
              "      <th>Diabetes_Pedigree_Function</th>\n",
              "      <th>Age</th>\n",
              "      <th>Outcome</th>\n",
              "    </tr>\n",
              "  </thead>\n",
              "  <tbody>\n",
              "    <tr>\n",
              "      <th>0</th>\n",
              "      <td>6</td>\n",
              "      <td>148</td>\n",
              "      <td>72</td>\n",
              "      <td>35</td>\n",
              "      <td>0</td>\n",
              "      <td>33.6</td>\n",
              "      <td>0.627</td>\n",
              "      <td>50</td>\n",
              "      <td>1</td>\n",
              "    </tr>\n",
              "    <tr>\n",
              "      <th>1</th>\n",
              "      <td>1</td>\n",
              "      <td>85</td>\n",
              "      <td>66</td>\n",
              "      <td>29</td>\n",
              "      <td>0</td>\n",
              "      <td>26.6</td>\n",
              "      <td>0.351</td>\n",
              "      <td>31</td>\n",
              "      <td>0</td>\n",
              "    </tr>\n",
              "    <tr>\n",
              "      <th>2</th>\n",
              "      <td>8</td>\n",
              "      <td>183</td>\n",
              "      <td>64</td>\n",
              "      <td>0</td>\n",
              "      <td>0</td>\n",
              "      <td>23.3</td>\n",
              "      <td>0.672</td>\n",
              "      <td>32</td>\n",
              "      <td>1</td>\n",
              "    </tr>\n",
              "    <tr>\n",
              "      <th>3</th>\n",
              "      <td>1</td>\n",
              "      <td>89</td>\n",
              "      <td>66</td>\n",
              "      <td>23</td>\n",
              "      <td>94</td>\n",
              "      <td>28.1</td>\n",
              "      <td>0.167</td>\n",
              "      <td>21</td>\n",
              "      <td>0</td>\n",
              "    </tr>\n",
              "    <tr>\n",
              "      <th>4</th>\n",
              "      <td>0</td>\n",
              "      <td>137</td>\n",
              "      <td>40</td>\n",
              "      <td>35</td>\n",
              "      <td>168</td>\n",
              "      <td>43.1</td>\n",
              "      <td>2.288</td>\n",
              "      <td>33</td>\n",
              "      <td>1</td>\n",
              "    </tr>\n",
              "    <tr>\n",
              "      <th>...</th>\n",
              "      <td>...</td>\n",
              "      <td>...</td>\n",
              "      <td>...</td>\n",
              "      <td>...</td>\n",
              "      <td>...</td>\n",
              "      <td>...</td>\n",
              "      <td>...</td>\n",
              "      <td>...</td>\n",
              "      <td>...</td>\n",
              "    </tr>\n",
              "    <tr>\n",
              "      <th>763</th>\n",
              "      <td>10</td>\n",
              "      <td>101</td>\n",
              "      <td>76</td>\n",
              "      <td>48</td>\n",
              "      <td>180</td>\n",
              "      <td>32.9</td>\n",
              "      <td>0.171</td>\n",
              "      <td>63</td>\n",
              "      <td>0</td>\n",
              "    </tr>\n",
              "    <tr>\n",
              "      <th>764</th>\n",
              "      <td>2</td>\n",
              "      <td>122</td>\n",
              "      <td>70</td>\n",
              "      <td>27</td>\n",
              "      <td>0</td>\n",
              "      <td>36.8</td>\n",
              "      <td>0.340</td>\n",
              "      <td>27</td>\n",
              "      <td>0</td>\n",
              "    </tr>\n",
              "    <tr>\n",
              "      <th>765</th>\n",
              "      <td>5</td>\n",
              "      <td>121</td>\n",
              "      <td>72</td>\n",
              "      <td>23</td>\n",
              "      <td>112</td>\n",
              "      <td>26.2</td>\n",
              "      <td>0.245</td>\n",
              "      <td>30</td>\n",
              "      <td>0</td>\n",
              "    </tr>\n",
              "    <tr>\n",
              "      <th>766</th>\n",
              "      <td>1</td>\n",
              "      <td>126</td>\n",
              "      <td>60</td>\n",
              "      <td>0</td>\n",
              "      <td>0</td>\n",
              "      <td>30.1</td>\n",
              "      <td>0.349</td>\n",
              "      <td>47</td>\n",
              "      <td>1</td>\n",
              "    </tr>\n",
              "    <tr>\n",
              "      <th>767</th>\n",
              "      <td>1</td>\n",
              "      <td>93</td>\n",
              "      <td>70</td>\n",
              "      <td>31</td>\n",
              "      <td>0</td>\n",
              "      <td>30.4</td>\n",
              "      <td>0.315</td>\n",
              "      <td>23</td>\n",
              "      <td>0</td>\n",
              "    </tr>\n",
              "  </tbody>\n",
              "</table>\n",
              "<p>768 rows × 9 columns</p>\n",
              "</div>"
            ],
            "text/plain": [
              "     Pregnancies  Glucose  ...  Age  Outcome\n",
              "0              6      148  ...   50        1\n",
              "1              1       85  ...   31        0\n",
              "2              8      183  ...   32        1\n",
              "3              1       89  ...   21        0\n",
              "4              0      137  ...   33        1\n",
              "..           ...      ...  ...  ...      ...\n",
              "763           10      101  ...   63        0\n",
              "764            2      122  ...   27        0\n",
              "765            5      121  ...   30        0\n",
              "766            1      126  ...   47        1\n",
              "767            1       93  ...   23        0\n",
              "\n",
              "[768 rows x 9 columns]"
            ]
          },
          "metadata": {
            "tags": []
          },
          "execution_count": 68
        }
      ]
    },
    {
      "cell_type": "code",
      "metadata": {
        "colab": {
          "base_uri": "https://localhost:8080/"
        },
        "id": "7slqDfQ8IcLe",
        "outputId": "455076cd-9c77-47b0-e562-ce6c3c12e207"
      },
      "source": [
        "df.info()"
      ],
      "execution_count": 69,
      "outputs": [
        {
          "output_type": "stream",
          "text": [
            "<class 'pandas.core.frame.DataFrame'>\n",
            "RangeIndex: 768 entries, 0 to 767\n",
            "Data columns (total 9 columns):\n",
            " #   Column                      Non-Null Count  Dtype  \n",
            "---  ------                      --------------  -----  \n",
            " 0   Pregnancies                 768 non-null    int64  \n",
            " 1   Glucose                     768 non-null    int64  \n",
            " 2   Blood_Pressure              768 non-null    int64  \n",
            " 3   Skin_Thickness              768 non-null    int64  \n",
            " 4   Insulin                     768 non-null    int64  \n",
            " 5   BMI                         768 non-null    float64\n",
            " 6   Diabetes_Pedigree_Function  768 non-null    float64\n",
            " 7   Age                         768 non-null    int64  \n",
            " 8   Outcome                     768 non-null    int64  \n",
            "dtypes: float64(2), int64(7)\n",
            "memory usage: 54.1 KB\n"
          ],
          "name": "stdout"
        }
      ]
    },
    {
      "cell_type": "markdown",
      "metadata": {
        "id": "ObyuVTzgHJrN"
      },
      "source": [
        " Check whether How many patients have diabetes\r\n",
        "\r\n",
        "\r\n",
        "*   0 means doesn't have\r\n",
        "*   1 means does have\r\n",
        "\r\n",
        "Considerng given data we can see most of them do not have diabetes. \r\n",
        "\r\n"
      ]
    },
    {
      "cell_type": "code",
      "metadata": {
        "colab": {
          "base_uri": "https://localhost:8080/",
          "height": 347
        },
        "id": "MiC6rqifG1v5",
        "outputId": "e34b18ec-59bd-489a-ff7a-3f40ce80480c"
      },
      "source": [
        "sns.countplot(x = 'Outcome',data = df)\r\n",
        "\r\n",
        "df.groupby('Outcome').size()"
      ],
      "execution_count": 70,
      "outputs": [
        {
          "output_type": "execute_result",
          "data": {
            "text/plain": [
              "Outcome\n",
              "0    500\n",
              "1    268\n",
              "dtype: int64"
            ]
          },
          "metadata": {
            "tags": []
          },
          "execution_count": 70
        },
        {
          "output_type": "display_data",
          "data": {
            "image/png": "[encoded data removed]",
            "text/plain": [
              "<Figure size 432x288 with 1 Axes>"
            ]
          },
          "metadata": {
            "tags": [],
            "needs_background": "light"
          }
        }
      ]
    },
    {
      "cell_type": "markdown",
      "metadata": {
        "id": "kSG_6u7GIh9G"
      },
      "source": [
        "Here you can see given plot describes whether she does not have diabetes or does have diabetes considering her Pregnancies level. "
      ]
    },
    {
      "cell_type": "code",
      "metadata": {
        "colab": {
          "base_uri": "https://localhost:8080/",
          "height": 357
        },
        "id": "mzidnkxeINCR",
        "outputId": "9d9d7eb2-04e7-4656-d2bf-5863cefa783e"
      },
      "source": [
        "sns.countplot(x = 'Outcome', hue = 'Pregnancies',data = df)"
      ],
      "execution_count": 71,
      "outputs": [
        {
          "output_type": "execute_result",
          "data": {
            "text/plain": [
              "<matplotlib.axes._subplots.AxesSubplot at 0x7f731bb85eb8>"
            ]
          },
          "metadata": {
            "tags": []
          },
          "execution_count": 71
        },
        {
          "output_type": "display_data",
          "data": {
            "image/png": "[encoded data removed]",
            "text/plain": [
              "<Figure size 432x288 with 1 Axes>"
            ]
          },
          "metadata": {
            "tags": [],
            "needs_background": "light"
          }
        }
      ]
    },
    {
      "cell_type": "markdown",
      "metadata": {
        "id": "odIF2QTcNyRK"
      },
      "source": [
        "This graph describes how many patients are their in relevent Pregnancies level. Since level_2 Pregnancies level shows much patients than levels."
      ]
    },
    {
      "cell_type": "code",
      "metadata": {
        "colab": {
          "base_uri": "https://localhost:8080/",
          "height": 298
        },
        "id": "EBIRIUj8M3en",
        "outputId": "91296ba7-6d97-46f6-f587-c7df51f28909"
      },
      "source": [
        "sns.countplot(x = 'Pregnancies',data = df)"
      ],
      "execution_count": 72,
      "outputs": [
        {
          "output_type": "execute_result",
          "data": {
            "text/plain": [
              "<matplotlib.axes._subplots.AxesSubplot at 0x7f731baebf98>"
            ]
          },
          "metadata": {
            "tags": []
          },
          "execution_count": 72
        },
        {
          "output_type": "display_data",
          "data": {
            "image/png": "[encoded data removed]",
            "text/plain": [
              "<Figure size 432x288 with 1 Axes>"
            ]
          },
          "metadata": {
            "tags": [],
            "needs_background": "light"
          }
        }
      ]
    },
    {
      "cell_type": "markdown",
      "metadata": {
        "id": "hv6z65VpLhCO"
      },
      "source": [
        "Below two graphs describe distribution of age group among the all of data. We can see there are lot of patients in age 20 - 30. "
      ]
    },
    {
      "cell_type": "code",
      "metadata": {
        "colab": {
          "base_uri": "https://localhost:8080/",
          "height": 352
        },
        "id": "57cz5WdUJpcz",
        "outputId": "f9d7b291-39ed-4273-88f8-1b80a371c692"
      },
      "source": [
        "sns.distplot(df['Age'].dropna(),kde = False, bins =30)"
      ],
      "execution_count": 73,
      "outputs": [
        {
          "output_type": "stream",
          "text": [
            "/usr/local/lib/python3.6/dist-packages/seaborn/distributions.py:2551: FutureWarning: `distplot` is a deprecated function and will be removed in a future version. Please adapt your code to use either `displot` (a figure-level function with similar flexibility) or `histplot` (an axes-level function for histograms).\n",
            "  warnings.warn(msg, FutureWarning)\n"
          ],
          "name": "stderr"
        },
        {
          "output_type": "execute_result",
          "data": {
            "text/plain": [
              "<matplotlib.axes._subplots.AxesSubplot at 0x7f731ba14860>"
            ]
          },
          "metadata": {
            "tags": []
          },
          "execution_count": 73
        },
        {
          "output_type": "display_data",
          "data": {
            "image/png": "[encoded data removed]",
            "text/plain": [
              "<Figure size 432x288 with 1 Axes>"
            ]
          },
          "metadata": {
            "tags": [],
            "needs_background": "light"
          }
        }
      ]
    },
    {
      "cell_type": "code",
      "metadata": {
        "colab": {
          "base_uri": "https://localhost:8080/",
          "height": 284
        },
        "id": "0J5yvrWELTbx",
        "outputId": "ef9a207a-e528-449c-d245-eae97792e655"
      },
      "source": [
        "df['Age'].plot.hist(bins= 35)"
      ],
      "execution_count": 74,
      "outputs": [
        {
          "output_type": "execute_result",
          "data": {
            "text/plain": [
              "<matplotlib.axes._subplots.AxesSubplot at 0x7f731b949048>"
            ]
          },
          "metadata": {
            "tags": []
          },
          "execution_count": 74
        },
        {
          "output_type": "display_data",
          "data": {
            "image/png": "[encoded data removed]",
            "text/plain": [
              "<Figure size 432x288 with 1 Axes>"
            ]
          },
          "metadata": {
            "tags": [],
            "needs_background": "light"
          }
        }
      ]
    },
    {
      "cell_type": "markdown",
      "metadata": {
        "id": "lQ80STBHN2mZ"
      },
      "source": [
        "Considering the given data set there are many of them represnting range in BMI 20 to 40. "
      ]
    },
    {
      "cell_type": "code",
      "metadata": {
        "colab": {
          "base_uri": "https://localhost:8080/",
          "height": 337
        },
        "id": "LjRxsEA3MOIk",
        "outputId": "fc6f6c4e-efe9-4dad-d3dd-140012e6e5a2"
      },
      "source": [
        "df['BMI'].hist(bins =50,figsize = (10,5))"
      ],
      "execution_count": 75,
      "outputs": [
        {
          "output_type": "execute_result",
          "data": {
            "text/plain": [
              "<matplotlib.axes._subplots.AxesSubplot at 0x7f731b90f9b0>"
            ]
          },
          "metadata": {
            "tags": []
          },
          "execution_count": 75
        },
        {
          "output_type": "display_data",
          "data": {
            "image/png": "[encoded data removed]",
            "text/plain": [
              "<Figure size 720x360 with 1 Axes>"
            ]
          },
          "metadata": {
            "tags": [],
            "needs_background": "light"
          }
        }
      ]
    },
    {
      "cell_type": "markdown",
      "metadata": {
        "id": "WWHnHgzORcqk"
      },
      "source": [
        "This distributation says Pregnancies level and its relative age group."
      ]
    },
    {
      "cell_type": "code",
      "metadata": {
        "colab": {
          "base_uri": "https://localhost:8080/",
          "height": 459
        },
        "id": "408OqCnjQSfv",
        "outputId": "1992223c-18dc-4082-cd5b-2b8714cd861a"
      },
      "source": [
        "plt.figure(figsize=(11,7))\r\n",
        "sns.boxenplot(x ='Pregnancies', y = 'Age',data = df)"
      ],
      "execution_count": 76,
      "outputs": [
        {
          "output_type": "execute_result",
          "data": {
            "text/plain": [
              "<matplotlib.axes._subplots.AxesSubplot at 0x7f731b8c1668>"
            ]
          },
          "metadata": {
            "tags": []
          },
          "execution_count": 76
        },
        {
          "output_type": "display_data",
          "data": {
            "image/png": "[encoded data removed]",
            "text/plain": [
              "<Figure size 792x504 with 1 Axes>"
            ]
          },
          "metadata": {
            "tags": [],
            "needs_background": "light"
          }
        }
      ]
    },
    {
      "cell_type": "code",
      "metadata": {
        "id": "JnpQLKnjjeKl",
        "colab": {
          "base_uri": "https://localhost:8080/"
        },
        "outputId": "ffa2418e-848b-40fd-982f-8ca8b6b739a8"
      },
      "source": [
        "df_mod = df[(df.Blood_Pressure != 0) & (df.BMI != 0) & (df.Glucose != 0)]\r\n",
        "print(df_mod.shape)\r\n"
      ],
      "execution_count": 77,
      "outputs": [
        {
          "output_type": "stream",
          "text": [
            "(724, 9)\n"
          ],
          "name": "stdout"
        }
      ]
    },
    {
      "cell_type": "code",
      "metadata": {
        "id": "nsAi6gr8p0QF"
      },
      "source": [
        "feature_names = ['Pregnancies', 'Glucose', 'Blood_Pressure', 'Skin_Thickness', 'Insulin', 'BMI', 'Diabetes_Pedigree_Function', 'Age']\r\n",
        "X = df_mod[feature_names]\r\n",
        "y = df_mod.Outcome"
      ],
      "execution_count": 78,
      "outputs": []
    },
    {
      "cell_type": "code",
      "metadata": {
        "id": "IJvCGSDHqPmM"
      },
      "source": [
        "from sklearn.model_selection import train_test_split\r\n",
        "X_train, X_test, y_train, y_test = train_test_split(X, y, test_size = 0.25, random_state = 101)"
      ],
      "execution_count": 79,
      "outputs": []
    },
    {
      "cell_type": "code",
      "metadata": {
        "id": "Ewu4dPp6qoOB"
      },
      "source": [
        "from sklearn.preprocessing import StandardScaler\r\n",
        "sc = StandardScaler()\r\n",
        "X_train = sc.fit_transform(X_train)\r\n",
        "X_test = sc.transform(X_test)"
      ],
      "execution_count": 80,
      "outputs": []
    },
    {
      "cell_type": "code",
      "metadata": {
        "colab": {
          "base_uri": "https://localhost:8080/"
        },
        "id": "-Ghvt-1fqqVH",
        "outputId": "161d7adc-cd9c-42c9-901c-a18020486fa2"
      },
      "source": [
        "from sklearn.linear_model import LogisticRegression\r\n",
        "reg = LogisticRegression(random_state = 0)\r\n",
        "reg.fit(X_train, y_train)\r\n"
      ],
      "execution_count": 121,
      "outputs": [
        {
          "output_type": "execute_result",
          "data": {
            "text/plain": [
              "LogisticRegression(C=1.0, class_weight=None, dual=False, fit_intercept=True,\n",
              "                   intercept_scaling=1, l1_ratio=None, max_iter=100,\n",
              "                   multi_class='auto', n_jobs=None, penalty='l2',\n",
              "                   random_state=0, solver='lbfgs', tol=0.0001, verbose=0,\n",
              "                   warm_start=False)"
            ]
          },
          "metadata": {
            "tags": []
          },
          "execution_count": 121
        }
      ]
    },
    {
      "cell_type": "code",
      "metadata": {
        "id": "A74vx9iduRQZ"
      },
      "source": [
        "pred = reg.predict(X_test)"
      ],
      "execution_count": 82,
      "outputs": []
    },
    {
      "cell_type": "code",
      "metadata": {
        "colab": {
          "base_uri": "https://localhost:8080/"
        },
        "id": "yi0z4_6ea1Mg",
        "outputId": "2dc8314e-b986-4590-b10a-7c222ac109c0"
      },
      "source": [
        "from sklearn.metrics import classification_report\r\n",
        "print(classification_report(y_test,pred))"
      ],
      "execution_count": 83,
      "outputs": [
        {
          "output_type": "stream",
          "text": [
            "              precision    recall  f1-score   support\n",
            "\n",
            "           0       0.84      0.89      0.86       120\n",
            "           1       0.75      0.66      0.70        61\n",
            "\n",
            "    accuracy                           0.81       181\n",
            "   macro avg       0.80      0.77      0.78       181\n",
            "weighted avg       0.81      0.81      0.81       181\n",
            "\n"
          ],
          "name": "stdout"
        }
      ]
    },
    {
      "cell_type": "code",
      "metadata": {
        "id": "MV_TgDVVljoa",
        "colab": {
          "base_uri": "https://localhost:8080/"
        },
        "outputId": "d5cad901-b113-4817-9bcc-138901d7f857"
      },
      "source": [
        " from sklearn.metrics import confusion_matrix\r\n",
        " confusion_matrix(y_test,pred)"
      ],
      "execution_count": 84,
      "outputs": [
        {
          "output_type": "execute_result",
          "data": {
            "text/plain": [
              "array([[107,  13],\n",
              "       [ 21,  40]])"
            ]
          },
          "metadata": {
            "tags": []
          },
          "execution_count": 84
        }
      ]
    },
    {
      "cell_type": "code",
      "metadata": {
        "id": "o2Dj87fvlq3K",
        "colab": {
          "base_uri": "https://localhost:8080/"
        },
        "outputId": "a891fa54-b669-484d-921c-2cb184219105"
      },
      "source": [
        "reg.score(X_test,y_test)"
      ],
      "execution_count": 85,
      "outputs": [
        {
          "output_type": "execute_result",
          "data": {
            "text/plain": [
              "0.8121546961325967"
            ]
          },
          "metadata": {
            "tags": []
          },
          "execution_count": 85
        }
      ]
    },
    {
      "cell_type": "code",
      "metadata": {
        "colab": {
          "base_uri": "https://localhost:8080/"
        },
        "id": "0kmwI6m6hhH1",
        "outputId": "69e938a3-ef25-4108-f111-8a98615cef4c"
      },
      "source": [
        "reg.predict(X_test)"
      ],
      "execution_count": 86,
      "outputs": [
        {
          "output_type": "execute_result",
          "data": {
            "text/plain": [
              "array([1, 0, 0, 1, 0, 0, 0, 1, 0, 1, 1, 0, 1, 1, 1, 0, 0, 0, 0, 0, 0, 0,\n",
              "       0, 0, 1, 0, 1, 0, 1, 0, 0, 0, 0, 0, 0, 0, 0, 1, 0, 1, 0, 0, 0, 0,\n",
              "       0, 0, 0, 0, 1, 0, 0, 0, 1, 1, 1, 0, 0, 0, 1, 0, 0, 0, 1, 0, 0, 0,\n",
              "       1, 0, 0, 0, 0, 0, 0, 1, 1, 1, 1, 0, 0, 0, 1, 1, 0, 0, 0, 1, 1, 1,\n",
              "       0, 0, 0, 0, 0, 0, 1, 1, 1, 0, 0, 0, 0, 0, 0, 0, 1, 0, 1, 1, 0, 0,\n",
              "       1, 1, 0, 0, 0, 1, 0, 0, 0, 0, 1, 0, 0, 0, 0, 1, 0, 0, 1, 1, 0, 0,\n",
              "       0, 0, 0, 0, 1, 0, 0, 0, 1, 0, 0, 0, 0, 1, 0, 0, 0, 1, 1, 1, 0, 0,\n",
              "       0, 0, 0, 0, 0, 0, 0, 0, 0, 0, 1, 0, 0, 0, 1, 0, 1, 0, 0, 0, 0, 1,\n",
              "       1, 0, 0, 0, 0])"
            ]
          },
          "metadata": {
            "tags": []
          },
          "execution_count": 86
        }
      ]
    },
    {
      "cell_type": "markdown",
      "metadata": {
        "id": "RUeQXiaVxuBD"
      },
      "source": [
        "Here, ‘h’ is the hypothesis or the predicted value and X is the predictor or input variable. Theta is initialized randomly in the beginning and updated it later.\r\n",
        "\r\n",
        "![image.png](data:image/png;base64,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)\r\n",
        " "
      ]
    },
    {
      "cell_type": "code",
      "metadata": {
        "id": "bTG3O062i7NJ",
        "colab": {
          "base_uri": "https://localhost:8080/"
        },
        "outputId": "9eab0537-7731-40ac-8ce2-23732ab46d8f"
      },
      "source": [
        "theta = [0.5]*len(X.columns)\r\n",
        "theta"
      ],
      "execution_count": 87,
      "outputs": [
        {
          "output_type": "execute_result",
          "data": {
            "text/plain": [
              "[0.5, 0.5, 0.5, 0.5, 0.5, 0.5, 0.5, 0.5]"
            ]
          },
          "metadata": {
            "tags": []
          },
          "execution_count": 87
        }
      ]
    },
    {
      "cell_type": "markdown",
      "metadata": {
        "id": "ubD8ivkxysI3"
      },
      "source": [
        "Logistic regression uses the sigmoid function to predict the output. Here is the sigmoid activation function. \r\n",
        "\r\n",
        "![image.png](data:image/png;base64,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)\r\n",
        "\r\n",
        "The hypothesis is simply the implementation of the sigmoid function. If the outcome of the hypothesis expression comes out to be 1, then this expression will turn out to be the log of zero. To mitigate that, I used this very small number at the end."
      ]
    },
    {
      "cell_type": "code",
      "metadata": {
        "id": "XfUtq7TByPXE"
      },
      "source": [
        "def hypothesis(X, theta):\r\n",
        "    z = np.dot(theta, X.T)\r\n",
        "    return 1/(1+np.exp(-(z))) - 0.0000001"
      ],
      "execution_count": 88,
      "outputs": []
    },
    {
      "cell_type": "markdown",
      "metadata": {
        "id": "dRr-YkZ72AMO"
      },
      "source": [
        "Simplified and combined cost function\r\n",
        "\r\n",
        "![image.png](data:image/png;base64,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)"
      ]
    },
    {
      "cell_type": "code",
      "metadata": {
        "id": "IA3teO5A1Rht"
      },
      "source": [
        "def cost(X, y, theta):\r\n",
        "    y1 = hypothesis(X, theta)\r\n",
        "    return -(1/len(X)) * np.sum(y*np.log(y1) + (1-y)*np.log(1-y1))"
      ],
      "execution_count": 89,
      "outputs": []
    },
    {
      "cell_type": "markdown",
      "metadata": {
        "id": "faqaIYf43FqS"
      },
      "source": [
        "Here this cells is described update the theta values.\r\n",
        "\r\n",
        "Theta values need to keep updating until the cost function reaches its minimum. We should get our final theta values and the cost of each iteration as output"
      ]
    },
    {
      "cell_type": "code",
      "metadata": {
        "id": "6Ya-lhhl2yI3"
      },
      "source": [
        "def gradient_descent(X, y, theta, alpha, epochs):\r\n",
        "    m =len(X)\r\n",
        "    J = [cost(X, y, theta)] \r\n",
        "    for i in range(0, epochs):\r\n",
        "        h = hypothesis(X, theta)\r\n",
        "        for i in range(0, len(X.columns)):\r\n",
        "            theta[i] -= (alpha/m) * np.sum((h-y)*X.iloc[:, i])\r\n",
        "        J.append(cost(X, y, theta))\r\n",
        "    return J, theta"
      ],
      "execution_count": 90,
      "outputs": []
    },
    {
      "cell_type": "code",
      "metadata": {
        "id": "Jma-BlfI3el7"
      },
      "source": [
        "#L, theta = gradient_descent(X, y, theta, 0.03, 2)"
      ],
      "execution_count": 91,
      "outputs": []
    },
    {
      "cell_type": "code",
      "metadata": {
        "id": "PZY4iaYn30TL"
      },
      "source": [
        "def predict(X, y, theta, alpha, epochs):\r\n",
        "    J,theta = gradient_descent(X, y, theta, alpha, epochs) \r\n",
        "    h = hypothesis(X, theta)\r\n",
        "    for i in range(len(h)):\r\n",
        "        h[i]=1 if h[i]>=0.5 else 0\r\n",
        "    y = list(y)\r\n",
        "    accuracy = np.sum([y[i] == h[i] for i in range(len(y))])/len(y)\r\n",
        "    return J, accuracy"
      ],
      "execution_count": 92,
      "outputs": []
    },
    {
      "cell_type": "code",
      "metadata": {
        "colab": {
          "base_uri": "https://localhost:8080/"
        },
        "id": "TG9FNhXP37Ft",
        "outputId": "546a9d9c-f972-4a3e-a006-261fa91a2c3e"
      },
      "source": [
        "predict(X, y, theta, 0.03, 3)"
      ],
      "execution_count": 93,
      "outputs": [
        {
          "output_type": "stream",
          "text": [
            "/usr/local/lib/python3.6/dist-packages/ipykernel_launcher.py:3: RuntimeWarning: overflow encountered in exp\n",
            "  This is separate from the ipykernel package so we can avoid doing imports until\n",
            "/usr/local/lib/python3.6/dist-packages/ipykernel_launcher.py:3: RuntimeWarning: invalid value encountered in log\n",
            "  This is separate from the ipykernel package so we can avoid doing imports until\n"
          ],
          "name": "stderr"
        },
        {
          "output_type": "execute_result",
          "data": {
            "text/plain": [
              "([10.574717485297269, -0.0, 5.339682351189788, -0.0], 0.6560773480662984)"
            ]
          },
          "metadata": {
            "tags": []
          },
          "execution_count": 93
        }
      ]
    },
    {
      "cell_type": "code",
      "metadata": {
        "colab": {
          "base_uri": "https://localhost:8080/"
        },
        "id": "x3RlRjL26MQT",
        "outputId": "f569052d-7f12-4d55-a6b2-c18b3312f2df"
      },
      "source": [
        "theta = [0.5]*len(X.columns)\r\n",
        "J, accuracy = predict(X, y, theta, 0.01, 10)\r\n",
        "\r\n",
        "accuracy"
      ],
      "execution_count": 94,
      "outputs": [
        {
          "output_type": "stream",
          "text": [
            "/usr/local/lib/python3.6/dist-packages/ipykernel_launcher.py:3: RuntimeWarning: invalid value encountered in log\n",
            "  This is separate from the ipykernel package so we can avoid doing imports until\n"
          ],
          "name": "stderr"
        },
        {
          "output_type": "execute_result",
          "data": {
            "text/plain": [
              "0.6146408839779005"
            ]
          },
          "metadata": {
            "tags": []
          },
          "execution_count": 94
        }
      ]
    },
    {
      "cell_type": "code",
      "metadata": {
        "colab": {
          "base_uri": "https://localhost:8080/",
          "height": 497
        },
        "id": "m0bXpzJU6NOl",
        "outputId": "de98a12b-51a8-482f-b7c5-3872f762d6bf"
      },
      "source": [
        "%matplotlib inline\r\n",
        "import matplotlib.pyplot as plt\r\n",
        "plt.figure(figsize = (12, 8))\r\n",
        "plt.scatter(range(0, len(J)), J)\r\n",
        "plt.xlabel(\"Epochs\")\r\n",
        "plt.ylabel(\"Cost\")\r\n",
        "plt.show()\r\n",
        "\r\n"
      ],
      "execution_count": 95,
      "outputs": [
        {
          "output_type": "display_data",
          "data": {
            "image/png": "[encoded data removed]",
            "text/plain": [
              "<Figure size 864x576 with 1 Axes>"
            ]
          },
          "metadata": {
            "tags": [],
            "needs_background": "light"
          }
        }
      ]
    },
    {
      "cell_type": "code",
      "metadata": {
        "colab": {
          "base_uri": "https://localhost:8080/"
        },
        "id": "U_fSrWlU5oS2",
        "outputId": "03860e84-3994-46dd-bb98-51ad4260f7e0"
      },
      "source": [
        "theta = [0.5]*len(X.columns)\r\n",
        "J, accuracy = predict(X, y, theta, 0.001, 1200)\r\n",
        "\r\n",
        "accuracy\r\n"
      ],
      "execution_count": 96,
      "outputs": [
        {
          "output_type": "stream",
          "text": [
            "/usr/local/lib/python3.6/dist-packages/ipykernel_launcher.py:3: RuntimeWarning: invalid value encountered in log\n",
            "  This is separate from the ipykernel package so we can avoid doing imports until\n"
          ],
          "name": "stderr"
        },
        {
          "output_type": "execute_result",
          "data": {
            "text/plain": [
              "0.5524861878453039"
            ]
          },
          "metadata": {
            "tags": []
          },
          "execution_count": 96
        }
      ]
    },
    {
      "cell_type": "code",
      "metadata": {
        "colab": {
          "base_uri": "https://localhost:8080/",
          "height": 497
        },
        "id": "GA357OQD57Lw",
        "outputId": "9f5b9702-60a2-4e90-b503-5ef6d7a6bcde"
      },
      "source": [
        "%matplotlib inline\r\n",
        "import matplotlib.pyplot as plt\r\n",
        "plt.figure(figsize = (12, 8))\r\n",
        "plt.scatter(range(0, len(J)), J)\r\n",
        "plt.xlabel(\"Epochs\")\r\n",
        "plt.ylabel(\"Cost\")\r\n",
        "plt.show()\r\n"
      ],
      "execution_count": 97,
      "outputs": [
        {
          "output_type": "display_data",
          "data": {
            "image/png": "[encoded data removed]",
            "text/plain": [
              "<Figure size 864x576 with 1 Axes>"
            ]
          },
          "metadata": {
            "tags": [],
            "needs_background": "light"
          }
        }
      ]
    },
    {
      "cell_type": "code",
      "metadata": {
        "colab": {
          "base_uri": "https://localhost:8080/"
        },
        "id": "jalrKfnz38S0",
        "outputId": "a5d2a90c-13d0-4631-8a55-d4c113dc8f67"
      },
      "source": [
        "theta = [0.5]*len(X.columns)\r\n",
        "J, accuracy = predict(X, y, theta, 0.0002, 2000)\r\n",
        "\r\n",
        "accuracy\r\n"
      ],
      "execution_count": 116,
      "outputs": [
        {
          "output_type": "stream",
          "text": [
            "/usr/local/lib/python3.6/dist-packages/ipykernel_launcher.py:3: RuntimeWarning: invalid value encountered in log\n",
            "  This is separate from the ipykernel package so we can avoid doing imports until\n"
          ],
          "name": "stderr"
        },
        {
          "output_type": "execute_result",
          "data": {
            "text/plain": [
              "0.7002762430939227"
            ]
          },
          "metadata": {
            "tags": []
          },
          "execution_count": 116
        }
      ]
    },
    {
      "cell_type": "code",
      "metadata": {
        "colab": {
          "base_uri": "https://localhost:8080/",
          "height": 497
        },
        "id": "8t4sO4LM5XiO",
        "outputId": "82012974-319f-42d3-ba48-fa6c7b4e42f0"
      },
      "source": [
        "%matplotlib inline\r\n",
        "import matplotlib.pyplot as plt\r\n",
        "plt.figure(figsize = (12, 8))\r\n",
        "plt.scatter(range(0, len(J)), J)\r\n",
        "plt.xlabel(\"Epochs\")\r\n",
        "plt.ylabel(\"Cost\")\r\n",
        "plt.show()"
      ],
      "execution_count": 100,
      "outputs": [
        {
          "output_type": "display_data",
          "data": {
            "image/png": "[encoded data removed]",
            "text/plain": [
              "<Figure size 864x576 with 1 Axes>"
            ]
          },
          "metadata": {
            "tags": [],
            "needs_background": "light"
          }
        }
      ]
    },
    {
      "cell_type": "code",
      "metadata": {
        "colab": {
          "base_uri": "https://localhost:8080/"
        },
        "id": "w66aKVPz6sw0",
        "outputId": "ca7453b7-f438-4dd4-bbf1-8337ccb0e0c3"
      },
      "source": [
        "theta = [0.5]*len(X.columns)\r\n",
        "J, accuracy = predict(X, y, theta, 0.000025, 250000)\r\n",
        "\r\n",
        "accuracy"
      ],
      "execution_count": 129,
      "outputs": [
        {
          "output_type": "stream",
          "text": [
            "/usr/local/lib/python3.6/dist-packages/ipykernel_launcher.py:3: RuntimeWarning: invalid value encountered in log\n",
            "  This is separate from the ipykernel package so we can avoid doing imports until\n"
          ],
          "name": "stderr"
        },
        {
          "output_type": "execute_result",
          "data": {
            "text/plain": [
              "0.7044198895027625"
            ]
          },
          "metadata": {
            "tags": []
          },
          "execution_count": 129
        }
      ]
    },
    {
      "cell_type": "code",
      "metadata": {
        "colab": {
          "base_uri": "https://localhost:8080/",
          "height": 497
        },
        "id": "RvGJo-RX6wpv",
        "outputId": "aea0ba97-a8b1-4a3f-8c04-a268267abbf4"
      },
      "source": [
        "%matplotlib inline\r\n",
        "import matplotlib.pyplot as plt\r\n",
        "plt.figure(figsize = (12, 8))\r\n",
        "plt.scatter(range(0, len(J)), J)\r\n",
        "plt.xlabel(\"Epochs\")\r\n",
        "plt.ylabel(\"Cost\")\r\n",
        "plt.show()"
      ],
      "execution_count": 130,
      "outputs": [
        {
          "output_type": "display_data",
          "data": {
            "image/png": "[encoded data removed]",
            "text/plain": [
              "<Figure size 864x576 with 1 Axes>"
            ]
          },
          "metadata": {
            "tags": [],
            "needs_background": "light"
          }
        }
      ]
    }
  ]
}