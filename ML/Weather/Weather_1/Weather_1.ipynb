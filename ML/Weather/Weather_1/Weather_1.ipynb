{
  "nbformat": 4,
  "nbformat_minor": 0,
  "metadata": {
    "colab": {
      "name": "Weather_1.ipynb",
      "provenance": [],
      "collapsed_sections": []
    },
    "kernelspec": {
      "display_name": "Python 3",
      "name": "python3"
    }
  },
  "cells": [
    {
      "cell_type": "markdown",
      "metadata": {
        "id": "jmfaDyxXaujx"
      },
      "source": [
        "# The Weather Data set by Descision Tree and Random Forest \n",
        "\n",
        "In here you can see there is a weather data set and which was trained by Descision Tree and Random Forest. Here we have to decide what are X and y parameters before train the model. In this model output y variable is Sunny. End of the code we can compute the probability of sunny which may happen or not.\n",
        "\n",
        "\n",
        "\n",
        "\n",
        "1.   Decision Tree\n",
        "\n",
        "\n",
        "\n",
        "*   Considering given data trained by Decision tree and finally able to get a result, the accuracy of the weather data set. \n",
        "\n",
        " accuracy 0.82\n",
        "\n",
        "\n",
        "2.  Random Forest\n",
        "\n",
        "*   And also considering given data we could get a result of accuracy of model by using Random Forest.\n",
        "\n",
        " accuracy 0.91\n",
        "\n",
        "Therefore considering above two results we can determine what is the best way to train such kind of model. \n",
        "\n"
      ]
    },
    {
      "cell_type": "markdown",
      "metadata": {
        "id": "n_uVC17xh8jv"
      },
      "source": [
        "Import libraries"
      ]
    },
    {
      "cell_type": "code",
      "metadata": {
        "id": "6YOPpaZWjNW0"
      },
      "source": [
        "import pandas as pd\n",
        "import numpy as np\n",
        "import matplotlib.pyplot as plt\n",
        "import seaborn as sns\n",
        "%matplotlib inline "
      ],
      "execution_count": 254,
      "outputs": []
    },
    {
      "cell_type": "markdown",
      "metadata": {
        "id": "YKO02pR4v9QL"
      },
      "source": [
        "Data file import from GIT"
      ]
    },
    {
      "cell_type": "code",
      "metadata": {
        "id": "CAT09_xSjS8Y",
        "outputId": "65d0dc7f-85ad-42bf-d828-27e89389329d",
        "colab": {
          "base_uri": "https://localhost:8080/"
        }
      },
      "source": [
        "!git clone 'https://github.com/sachinkavindaa/Machine-learning-with-Python'"
      ],
      "execution_count": 255,
      "outputs": [
        {
          "output_type": "stream",
          "text": [
            "fatal: destination path 'Machine-learning-with-Python' already exists and is not an empty directory.\n"
          ],
          "name": "stdout"
        }
      ]
    },
    {
      "cell_type": "markdown",
      "metadata": {
        "id": "or5r9KxXwGjL"
      },
      "source": [
        "Read CSV file "
      ]
    },
    {
      "cell_type": "code",
      "metadata": {
        "id": "hvO9qAmajZC_",
        "outputId": "33ea8ae4-10de-49a3-b779-17eefed143dc",
        "colab": {
          "base_uri": "https://localhost:8080/",
          "height": 419
        }
      },
      "source": [
        "df = pd.read_csv('/content/Machine-learning-with-Python/ML/Weather/Weather.csv')\n",
        "df"
      ],
      "execution_count": 256,
      "outputs": [
        {
          "output_type": "execute_result",
          "data": {
            "text/html": [
              "<div>\n",
              "<style scoped>\n",
              "    .dataframe tbody tr th:only-of-type {\n",
              "        vertical-align: middle;\n",
              "    }\n",
              "\n",
              "    .dataframe tbody tr th {\n",
              "        vertical-align: top;\n",
              "    }\n",
              "\n",
              "    .dataframe thead th {\n",
              "        text-align: right;\n",
              "    }\n",
              "</style>\n",
              "<table border=\"1\" class=\"dataframe\">\n",
              "  <thead>\n",
              "    <tr style=\"text-align: right;\">\n",
              "      <th></th>\n",
              "      <th>Date</th>\n",
              "      <th>T Max</th>\n",
              "      <th>T Min</th>\n",
              "      <th>Wind</th>\n",
              "      <th>Could</th>\n",
              "      <th>Humidity</th>\n",
              "      <th>Precip</th>\n",
              "      <th>Pressure</th>\n",
              "      <th>Weather</th>\n",
              "    </tr>\n",
              "  </thead>\n",
              "  <tbody>\n",
              "    <tr>\n",
              "      <th>0</th>\n",
              "      <td>1/1/2010</td>\n",
              "      <td>30</td>\n",
              "      <td>22</td>\n",
              "      <td>7</td>\n",
              "      <td>4</td>\n",
              "      <td>69</td>\n",
              "      <td>0.0</td>\n",
              "      <td>1011</td>\n",
              "      <td>Sunny</td>\n",
              "    </tr>\n",
              "    <tr>\n",
              "      <th>1</th>\n",
              "      <td>1/2/2009</td>\n",
              "      <td>30</td>\n",
              "      <td>22</td>\n",
              "      <td>7</td>\n",
              "      <td>3</td>\n",
              "      <td>68</td>\n",
              "      <td>0.0</td>\n",
              "      <td>1012</td>\n",
              "      <td>Sunny</td>\n",
              "    </tr>\n",
              "    <tr>\n",
              "      <th>2</th>\n",
              "      <td>1/3/2009</td>\n",
              "      <td>30</td>\n",
              "      <td>22</td>\n",
              "      <td>7</td>\n",
              "      <td>1</td>\n",
              "      <td>68</td>\n",
              "      <td>0.0</td>\n",
              "      <td>1012</td>\n",
              "      <td>Sunny</td>\n",
              "    </tr>\n",
              "    <tr>\n",
              "      <th>3</th>\n",
              "      <td>1/4/2009</td>\n",
              "      <td>31</td>\n",
              "      <td>22</td>\n",
              "      <td>7</td>\n",
              "      <td>8</td>\n",
              "      <td>73</td>\n",
              "      <td>0.0</td>\n",
              "      <td>1011</td>\n",
              "      <td>Sunny</td>\n",
              "    </tr>\n",
              "    <tr>\n",
              "      <th>4</th>\n",
              "      <td>1/5/2009</td>\n",
              "      <td>30</td>\n",
              "      <td>23</td>\n",
              "      <td>7</td>\n",
              "      <td>29</td>\n",
              "      <td>76</td>\n",
              "      <td>0.4</td>\n",
              "      <td>1010</td>\n",
              "      <td>Partly couldy</td>\n",
              "    </tr>\n",
              "    <tr>\n",
              "      <th>...</th>\n",
              "      <td>...</td>\n",
              "      <td>...</td>\n",
              "      <td>...</td>\n",
              "      <td>...</td>\n",
              "      <td>...</td>\n",
              "      <td>...</td>\n",
              "      <td>...</td>\n",
              "      <td>...</td>\n",
              "      <td>...</td>\n",
              "    </tr>\n",
              "    <tr>\n",
              "      <th>360</th>\n",
              "      <td>12/27/2009</td>\n",
              "      <td>29</td>\n",
              "      <td>23</td>\n",
              "      <td>5</td>\n",
              "      <td>48</td>\n",
              "      <td>86</td>\n",
              "      <td>0.0</td>\n",
              "      <td>1011</td>\n",
              "      <td>Partly couldy</td>\n",
              "    </tr>\n",
              "    <tr>\n",
              "      <th>361</th>\n",
              "      <td>12/28/2009</td>\n",
              "      <td>29</td>\n",
              "      <td>24</td>\n",
              "      <td>5</td>\n",
              "      <td>55</td>\n",
              "      <td>86</td>\n",
              "      <td>0.0</td>\n",
              "      <td>1011</td>\n",
              "      <td>Partly couldy</td>\n",
              "    </tr>\n",
              "    <tr>\n",
              "      <th>362</th>\n",
              "      <td>12/29/2009</td>\n",
              "      <td>29</td>\n",
              "      <td>247</td>\n",
              "      <td>7</td>\n",
              "      <td>51</td>\n",
              "      <td>85</td>\n",
              "      <td>0.1</td>\n",
              "      <td>1011</td>\n",
              "      <td>Partly couldy</td>\n",
              "    </tr>\n",
              "    <tr>\n",
              "      <th>363</th>\n",
              "      <td>12/30/2009</td>\n",
              "      <td>29</td>\n",
              "      <td>23</td>\n",
              "      <td>4</td>\n",
              "      <td>68</td>\n",
              "      <td>87</td>\n",
              "      <td>2.5</td>\n",
              "      <td>1011</td>\n",
              "      <td>Cloudy</td>\n",
              "    </tr>\n",
              "    <tr>\n",
              "      <th>364</th>\n",
              "      <td>12/31/2009</td>\n",
              "      <td>30</td>\n",
              "      <td>23</td>\n",
              "      <td>4</td>\n",
              "      <td>17</td>\n",
              "      <td>81</td>\n",
              "      <td>0.7</td>\n",
              "      <td>1010</td>\n",
              "      <td>Sunny</td>\n",
              "    </tr>\n",
              "  </tbody>\n",
              "</table>\n",
              "<p>365 rows × 9 columns</p>\n",
              "</div>"
            ],
            "text/plain": [
              "           Date  T Max  T Min  Wind  ...  Humidity  Precip  Pressure        Weather\n",
              "0      1/1/2010     30     22     7  ...        69     0.0      1011          Sunny\n",
              "1      1/2/2009     30     22     7  ...        68     0.0      1012          Sunny\n",
              "2      1/3/2009     30     22     7  ...        68     0.0      1012          Sunny\n",
              "3      1/4/2009     31     22     7  ...        73     0.0      1011          Sunny\n",
              "4      1/5/2009     30     23     7  ...        76     0.4      1010  Partly couldy\n",
              "..          ...    ...    ...   ...  ...       ...     ...       ...            ...\n",
              "360  12/27/2009     29     23     5  ...        86     0.0      1011  Partly couldy\n",
              "361  12/28/2009     29     24     5  ...        86     0.0      1011  Partly couldy\n",
              "362  12/29/2009     29    247     7  ...        85     0.1      1011  Partly couldy\n",
              "363  12/30/2009     29     23     4  ...        87     2.5      1011         Cloudy\n",
              "364  12/31/2009     30     23     4  ...        81     0.7      1010          Sunny\n",
              "\n",
              "[365 rows x 9 columns]"
            ]
          },
          "metadata": {
            "tags": []
          },
          "execution_count": 256
        }
      ]
    },
    {
      "cell_type": "code",
      "metadata": {
        "id": "Um0hpAmOjkz0",
        "outputId": "d2227f04-cbde-42d2-9069-cd9c5b14edf3",
        "colab": {
          "base_uri": "https://localhost:8080/",
          "height": 204
        }
      },
      "source": [
        "df.head()"
      ],
      "execution_count": 257,
      "outputs": [
        {
          "output_type": "execute_result",
          "data": {
            "text/html": [
              "<div>\n",
              "<style scoped>\n",
              "    .dataframe tbody tr th:only-of-type {\n",
              "        vertical-align: middle;\n",
              "    }\n",
              "\n",
              "    .dataframe tbody tr th {\n",
              "        vertical-align: top;\n",
              "    }\n",
              "\n",
              "    .dataframe thead th {\n",
              "        text-align: right;\n",
              "    }\n",
              "</style>\n",
              "<table border=\"1\" class=\"dataframe\">\n",
              "  <thead>\n",
              "    <tr style=\"text-align: right;\">\n",
              "      <th></th>\n",
              "      <th>Date</th>\n",
              "      <th>T Max</th>\n",
              "      <th>T Min</th>\n",
              "      <th>Wind</th>\n",
              "      <th>Could</th>\n",
              "      <th>Humidity</th>\n",
              "      <th>Precip</th>\n",
              "      <th>Pressure</th>\n",
              "      <th>Weather</th>\n",
              "    </tr>\n",
              "  </thead>\n",
              "  <tbody>\n",
              "    <tr>\n",
              "      <th>0</th>\n",
              "      <td>1/1/2010</td>\n",
              "      <td>30</td>\n",
              "      <td>22</td>\n",
              "      <td>7</td>\n",
              "      <td>4</td>\n",
              "      <td>69</td>\n",
              "      <td>0.0</td>\n",
              "      <td>1011</td>\n",
              "      <td>Sunny</td>\n",
              "    </tr>\n",
              "    <tr>\n",
              "      <th>1</th>\n",
              "      <td>1/2/2009</td>\n",
              "      <td>30</td>\n",
              "      <td>22</td>\n",
              "      <td>7</td>\n",
              "      <td>3</td>\n",
              "      <td>68</td>\n",
              "      <td>0.0</td>\n",
              "      <td>1012</td>\n",
              "      <td>Sunny</td>\n",
              "    </tr>\n",
              "    <tr>\n",
              "      <th>2</th>\n",
              "      <td>1/3/2009</td>\n",
              "      <td>30</td>\n",
              "      <td>22</td>\n",
              "      <td>7</td>\n",
              "      <td>1</td>\n",
              "      <td>68</td>\n",
              "      <td>0.0</td>\n",
              "      <td>1012</td>\n",
              "      <td>Sunny</td>\n",
              "    </tr>\n",
              "    <tr>\n",
              "      <th>3</th>\n",
              "      <td>1/4/2009</td>\n",
              "      <td>31</td>\n",
              "      <td>22</td>\n",
              "      <td>7</td>\n",
              "      <td>8</td>\n",
              "      <td>73</td>\n",
              "      <td>0.0</td>\n",
              "      <td>1011</td>\n",
              "      <td>Sunny</td>\n",
              "    </tr>\n",
              "    <tr>\n",
              "      <th>4</th>\n",
              "      <td>1/5/2009</td>\n",
              "      <td>30</td>\n",
              "      <td>23</td>\n",
              "      <td>7</td>\n",
              "      <td>29</td>\n",
              "      <td>76</td>\n",
              "      <td>0.4</td>\n",
              "      <td>1010</td>\n",
              "      <td>Partly couldy</td>\n",
              "    </tr>\n",
              "  </tbody>\n",
              "</table>\n",
              "</div>"
            ],
            "text/plain": [
              "       Date  T Max  T Min  Wind  ...  Humidity  Precip  Pressure        Weather\n",
              "0  1/1/2010     30     22     7  ...        69     0.0      1011          Sunny\n",
              "1  1/2/2009     30     22     7  ...        68     0.0      1012          Sunny\n",
              "2  1/3/2009     30     22     7  ...        68     0.0      1012          Sunny\n",
              "3  1/4/2009     31     22     7  ...        73     0.0      1011          Sunny\n",
              "4  1/5/2009     30     23     7  ...        76     0.4      1010  Partly couldy\n",
              "\n",
              "[5 rows x 9 columns]"
            ]
          },
          "metadata": {
            "tags": []
          },
          "execution_count": 257
        }
      ]
    },
    {
      "cell_type": "markdown",
      "metadata": {
        "id": "2Bb0ifdywW4B"
      },
      "source": [
        "Define the columns "
      ]
    },
    {
      "cell_type": "code",
      "metadata": {
        "id": "DbkXwKpEkTiP",
        "outputId": "f783c02a-3a6e-422a-9732-604fcd357cbc",
        "colab": {
          "base_uri": "https://localhost:8080/"
        }
      },
      "source": [
        "df.columns"
      ],
      "execution_count": 258,
      "outputs": [
        {
          "output_type": "execute_result",
          "data": {
            "text/plain": [
              "Index(['Date', 'T Max', 'T Min', 'Wind', 'Could', 'Humidity', 'Precip',\n",
              "       'Pressure', 'Weather'],\n",
              "      dtype='object')"
            ]
          },
          "metadata": {
            "tags": []
          },
          "execution_count": 258
        }
      ]
    },
    {
      "cell_type": "code",
      "metadata": {
        "id": "F2frqQdmkaQX",
        "outputId": "f4981c15-d67a-4daa-9b5d-76dbc6ca6f18",
        "colab": {
          "base_uri": "https://localhost:8080/"
        }
      },
      "source": [
        "df.shape"
      ],
      "execution_count": 259,
      "outputs": [
        {
          "output_type": "execute_result",
          "data": {
            "text/plain": [
              "(365, 9)"
            ]
          },
          "metadata": {
            "tags": []
          },
          "execution_count": 259
        }
      ]
    },
    {
      "cell_type": "markdown",
      "metadata": {
        "id": "qAaRwRBewh7q"
      },
      "source": [
        "Describe the each columns and finally able to get below graph "
      ]
    },
    {
      "cell_type": "code",
      "metadata": {
        "id": "Fxf5tr4Qkfum",
        "outputId": "61e3e8a6-71e9-4704-9afe-eb25c9ab2f65",
        "colab": {
          "base_uri": "https://localhost:8080/",
          "height": 297
        }
      },
      "source": [
        "df.describe()"
      ],
      "execution_count": 260,
      "outputs": [
        {
          "output_type": "execute_result",
          "data": {
            "text/html": [
              "<div>\n",
              "<style scoped>\n",
              "    .dataframe tbody tr th:only-of-type {\n",
              "        vertical-align: middle;\n",
              "    }\n",
              "\n",
              "    .dataframe tbody tr th {\n",
              "        vertical-align: top;\n",
              "    }\n",
              "\n",
              "    .dataframe thead th {\n",
              "        text-align: right;\n",
              "    }\n",
              "</style>\n",
              "<table border=\"1\" class=\"dataframe\">\n",
              "  <thead>\n",
              "    <tr style=\"text-align: right;\">\n",
              "      <th></th>\n",
              "      <th>T Max</th>\n",
              "      <th>T Min</th>\n",
              "      <th>Wind</th>\n",
              "      <th>Could</th>\n",
              "      <th>Humidity</th>\n",
              "      <th>Precip</th>\n",
              "      <th>Pressure</th>\n",
              "    </tr>\n",
              "  </thead>\n",
              "  <tbody>\n",
              "    <tr>\n",
              "      <th>count</th>\n",
              "      <td>365.000000</td>\n",
              "      <td>365.000000</td>\n",
              "      <td>365.000000</td>\n",
              "      <td>365.000000</td>\n",
              "      <td>365.000000</td>\n",
              "      <td>365.000000</td>\n",
              "      <td>365.000000</td>\n",
              "    </tr>\n",
              "    <tr>\n",
              "      <th>mean</th>\n",
              "      <td>28.978082</td>\n",
              "      <td>25.156164</td>\n",
              "      <td>12.424658</td>\n",
              "      <td>39.109589</td>\n",
              "      <td>82.063014</td>\n",
              "      <td>0.818356</td>\n",
              "      <td>1005.265753</td>\n",
              "    </tr>\n",
              "    <tr>\n",
              "      <th>std</th>\n",
              "      <td>1.758671</td>\n",
              "      <td>11.689210</td>\n",
              "      <td>5.719923</td>\n",
              "      <td>18.822889</td>\n",
              "      <td>5.329152</td>\n",
              "      <td>1.431597</td>\n",
              "      <td>67.230725</td>\n",
              "    </tr>\n",
              "    <tr>\n",
              "      <th>min</th>\n",
              "      <td>8.000000</td>\n",
              "      <td>21.000000</td>\n",
              "      <td>3.000000</td>\n",
              "      <td>1.000000</td>\n",
              "      <td>64.000000</td>\n",
              "      <td>0.000000</td>\n",
              "      <td>101.000000</td>\n",
              "    </tr>\n",
              "    <tr>\n",
              "      <th>25%</th>\n",
              "      <td>28.000000</td>\n",
              "      <td>24.000000</td>\n",
              "      <td>7.000000</td>\n",
              "      <td>25.000000</td>\n",
              "      <td>80.000000</td>\n",
              "      <td>0.000000</td>\n",
              "      <td>1009.000000</td>\n",
              "    </tr>\n",
              "    <tr>\n",
              "      <th>50%</th>\n",
              "      <td>29.000000</td>\n",
              "      <td>25.000000</td>\n",
              "      <td>12.000000</td>\n",
              "      <td>38.000000</td>\n",
              "      <td>83.000000</td>\n",
              "      <td>0.200000</td>\n",
              "      <td>1010.000000</td>\n",
              "    </tr>\n",
              "    <tr>\n",
              "      <th>75%</th>\n",
              "      <td>30.000000</td>\n",
              "      <td>25.000000</td>\n",
              "      <td>17.000000</td>\n",
              "      <td>53.000000</td>\n",
              "      <td>86.000000</td>\n",
              "      <td>1.100000</td>\n",
              "      <td>1011.000000</td>\n",
              "    </tr>\n",
              "    <tr>\n",
              "      <th>max</th>\n",
              "      <td>33.000000</td>\n",
              "      <td>247.000000</td>\n",
              "      <td>24.000000</td>\n",
              "      <td>95.000000</td>\n",
              "      <td>92.000000</td>\n",
              "      <td>11.400000</td>\n",
              "      <td>1014.000000</td>\n",
              "    </tr>\n",
              "  </tbody>\n",
              "</table>\n",
              "</div>"
            ],
            "text/plain": [
              "            T Max       T Min        Wind  ...    Humidity      Precip     Pressure\n",
              "count  365.000000  365.000000  365.000000  ...  365.000000  365.000000   365.000000\n",
              "mean    28.978082   25.156164   12.424658  ...   82.063014    0.818356  1005.265753\n",
              "std      1.758671   11.689210    5.719923  ...    5.329152    1.431597    67.230725\n",
              "min      8.000000   21.000000    3.000000  ...   64.000000    0.000000   101.000000\n",
              "25%     28.000000   24.000000    7.000000  ...   80.000000    0.000000  1009.000000\n",
              "50%     29.000000   25.000000   12.000000  ...   83.000000    0.200000  1010.000000\n",
              "75%     30.000000   25.000000   17.000000  ...   86.000000    1.100000  1011.000000\n",
              "max     33.000000  247.000000   24.000000  ...   92.000000   11.400000  1014.000000\n",
              "\n",
              "[8 rows x 7 columns]"
            ]
          },
          "metadata": {
            "tags": []
          },
          "execution_count": 260
        }
      ]
    },
    {
      "cell_type": "markdown",
      "metadata": {
        "id": "h2FdVMZpygBC"
      },
      "source": [
        "Whether check data set have non-null count\n",
        "\n",
        "\n"
      ]
    },
    {
      "cell_type": "code",
      "metadata": {
        "id": "qoaSJSt6kn_Q",
        "outputId": "10f40e28-2ab4-48ab-eaf5-514f383104c7",
        "colab": {
          "base_uri": "https://localhost:8080/"
        }
      },
      "source": [
        "df.info()"
      ],
      "execution_count": 261,
      "outputs": [
        {
          "output_type": "stream",
          "text": [
            "<class 'pandas.core.frame.DataFrame'>\n",
            "RangeIndex: 365 entries, 0 to 364\n",
            "Data columns (total 9 columns):\n",
            " #   Column    Non-Null Count  Dtype  \n",
            "---  ------    --------------  -----  \n",
            " 0   Date      365 non-null    object \n",
            " 1   T Max     365 non-null    int64  \n",
            " 2   T Min     365 non-null    int64  \n",
            " 3   Wind      365 non-null    int64  \n",
            " 4   Could     365 non-null    int64  \n",
            " 5   Humidity  365 non-null    int64  \n",
            " 6   Precip    365 non-null    float64\n",
            " 7   Pressure  365 non-null    int64  \n",
            " 8   Weather   365 non-null    object \n",
            "dtypes: float64(1), int64(6), object(2)\n",
            "memory usage: 25.8+ KB\n"
          ],
          "name": "stdout"
        }
      ]
    },
    {
      "cell_type": "markdown",
      "metadata": {
        "id": "wcgW_8yfy-jr"
      },
      "source": [
        "YES! there is a no non- null count in the data set "
      ]
    },
    {
      "cell_type": "code",
      "metadata": {
        "id": "lAfpWEIyk2HF",
        "outputId": "21cec9b3-3f78-44c2-962d-2bb32923bbf0",
        "colab": {
          "base_uri": "https://localhost:8080/"
        }
      },
      "source": [
        "df.isnull().any()"
      ],
      "execution_count": 262,
      "outputs": [
        {
          "output_type": "execute_result",
          "data": {
            "text/plain": [
              "Date        False\n",
              "T Max       False\n",
              "T Min       False\n",
              "Wind        False\n",
              "Could       False\n",
              "Humidity    False\n",
              "Precip      False\n",
              "Pressure    False\n",
              "Weather     False\n",
              "dtype: bool"
            ]
          },
          "metadata": {
            "tags": []
          },
          "execution_count": 262
        }
      ]
    },
    {
      "cell_type": "code",
      "metadata": {
        "id": "e1V7TtnOlOLW"
      },
      "source": [
        "#round(100*(df.isnull().sum()/len(df.index)),2)"
      ],
      "execution_count": 263,
      "outputs": []
    },
    {
      "cell_type": "markdown",
      "metadata": {
        "id": "bSZ4l97EzO6r"
      },
      "source": [
        "Drop the Time column"
      ]
    },
    {
      "cell_type": "code",
      "metadata": {
        "id": "7YmyEsqAevxR",
        "outputId": "d8c08250-1bf0-4941-df1c-ec6520fdc18e",
        "colab": {
          "base_uri": "https://localhost:8080/",
          "height": 204
        }
      },
      "source": [
        "df.drop(['Date'],axis='columns',inplace=True)\n",
        "df.head()"
      ],
      "execution_count": 264,
      "outputs": [
        {
          "output_type": "execute_result",
          "data": {
            "text/html": [
              "<div>\n",
              "<style scoped>\n",
              "    .dataframe tbody tr th:only-of-type {\n",
              "        vertical-align: middle;\n",
              "    }\n",
              "\n",
              "    .dataframe tbody tr th {\n",
              "        vertical-align: top;\n",
              "    }\n",
              "\n",
              "    .dataframe thead th {\n",
              "        text-align: right;\n",
              "    }\n",
              "</style>\n",
              "<table border=\"1\" class=\"dataframe\">\n",
              "  <thead>\n",
              "    <tr style=\"text-align: right;\">\n",
              "      <th></th>\n",
              "      <th>T Max</th>\n",
              "      <th>T Min</th>\n",
              "      <th>Wind</th>\n",
              "      <th>Could</th>\n",
              "      <th>Humidity</th>\n",
              "      <th>Precip</th>\n",
              "      <th>Pressure</th>\n",
              "      <th>Weather</th>\n",
              "    </tr>\n",
              "  </thead>\n",
              "  <tbody>\n",
              "    <tr>\n",
              "      <th>0</th>\n",
              "      <td>30</td>\n",
              "      <td>22</td>\n",
              "      <td>7</td>\n",
              "      <td>4</td>\n",
              "      <td>69</td>\n",
              "      <td>0.0</td>\n",
              "      <td>1011</td>\n",
              "      <td>Sunny</td>\n",
              "    </tr>\n",
              "    <tr>\n",
              "      <th>1</th>\n",
              "      <td>30</td>\n",
              "      <td>22</td>\n",
              "      <td>7</td>\n",
              "      <td>3</td>\n",
              "      <td>68</td>\n",
              "      <td>0.0</td>\n",
              "      <td>1012</td>\n",
              "      <td>Sunny</td>\n",
              "    </tr>\n",
              "    <tr>\n",
              "      <th>2</th>\n",
              "      <td>30</td>\n",
              "      <td>22</td>\n",
              "      <td>7</td>\n",
              "      <td>1</td>\n",
              "      <td>68</td>\n",
              "      <td>0.0</td>\n",
              "      <td>1012</td>\n",
              "      <td>Sunny</td>\n",
              "    </tr>\n",
              "    <tr>\n",
              "      <th>3</th>\n",
              "      <td>31</td>\n",
              "      <td>22</td>\n",
              "      <td>7</td>\n",
              "      <td>8</td>\n",
              "      <td>73</td>\n",
              "      <td>0.0</td>\n",
              "      <td>1011</td>\n",
              "      <td>Sunny</td>\n",
              "    </tr>\n",
              "    <tr>\n",
              "      <th>4</th>\n",
              "      <td>30</td>\n",
              "      <td>23</td>\n",
              "      <td>7</td>\n",
              "      <td>29</td>\n",
              "      <td>76</td>\n",
              "      <td>0.4</td>\n",
              "      <td>1010</td>\n",
              "      <td>Partly couldy</td>\n",
              "    </tr>\n",
              "  </tbody>\n",
              "</table>\n",
              "</div>"
            ],
            "text/plain": [
              "   T Max  T Min  Wind  Could  Humidity  Precip  Pressure        Weather\n",
              "0     30     22     7      4        69     0.0      1011          Sunny\n",
              "1     30     22     7      3        68     0.0      1012          Sunny\n",
              "2     30     22     7      1        68     0.0      1012          Sunny\n",
              "3     31     22     7      8        73     0.0      1011          Sunny\n",
              "4     30     23     7     29        76     0.4      1010  Partly couldy"
            ]
          },
          "metadata": {
            "tags": []
          },
          "execution_count": 264
        }
      ]
    },
    {
      "cell_type": "markdown",
      "metadata": {
        "id": "WIYFKZvezY9d"
      },
      "source": [
        "Define the weather column. Then we can there are eight changing variables in the Weather column"
      ]
    },
    {
      "cell_type": "code",
      "metadata": {
        "id": "9DT8TL7QfRDi",
        "outputId": "7f38837d-f94e-4600-e01a-3c0b1bea8921",
        "colab": {
          "base_uri": "https://localhost:8080/"
        }
      },
      "source": [
        "df['Weather'].value_counts()"
      ],
      "execution_count": 265,
      "outputs": [
        {
          "output_type": "execute_result",
          "data": {
            "text/plain": [
              "Partly couldy                    182\n",
              "Sunny                            128\n",
              "Cloudy                            31\n",
              "Light rain shower                  9\n",
              "Patchy rain possible               5\n",
              "Thundery outbreaks possible        4\n",
              "Overcast                           4\n",
              "Moderate or heavy rain shower      2\n",
              "Name: Weather, dtype: int64"
            ]
          },
          "metadata": {
            "tags": []
          },
          "execution_count": 265
        }
      ]
    },
    {
      "cell_type": "markdown",
      "metadata": {
        "id": "bzbgIE-rzrcq"
      },
      "source": [
        "Convert string to binary "
      ]
    },
    {
      "cell_type": "code",
      "metadata": {
        "id": "tbQFgBC5f0wA"
      },
      "source": [
        "dummies = pd.get_dummies(df.Weather)"
      ],
      "execution_count": 266,
      "outputs": []
    },
    {
      "cell_type": "code",
      "metadata": {
        "id": "v5tgJcLFhMjs",
        "outputId": "2ac12f9d-144e-4aa5-f9c7-e99a4be0b62e",
        "colab": {
          "base_uri": "https://localhost:8080/",
          "height": 255
        }
      },
      "source": [
        "merged = pd.concat([df,dummies],axis ='columns')\n",
        "merged.head()"
      ],
      "execution_count": 267,
      "outputs": [
        {
          "output_type": "execute_result",
          "data": {
            "text/html": [
              "<div>\n",
              "<style scoped>\n",
              "    .dataframe tbody tr th:only-of-type {\n",
              "        vertical-align: middle;\n",
              "    }\n",
              "\n",
              "    .dataframe tbody tr th {\n",
              "        vertical-align: top;\n",
              "    }\n",
              "\n",
              "    .dataframe thead th {\n",
              "        text-align: right;\n",
              "    }\n",
              "</style>\n",
              "<table border=\"1\" class=\"dataframe\">\n",
              "  <thead>\n",
              "    <tr style=\"text-align: right;\">\n",
              "      <th></th>\n",
              "      <th>T Max</th>\n",
              "      <th>T Min</th>\n",
              "      <th>Wind</th>\n",
              "      <th>Could</th>\n",
              "      <th>Humidity</th>\n",
              "      <th>Precip</th>\n",
              "      <th>Pressure</th>\n",
              "      <th>Weather</th>\n",
              "      <th>Cloudy</th>\n",
              "      <th>Light rain shower</th>\n",
              "      <th>Moderate or heavy rain shower</th>\n",
              "      <th>Overcast</th>\n",
              "      <th>Partly couldy</th>\n",
              "      <th>Patchy rain possible</th>\n",
              "      <th>Sunny</th>\n",
              "      <th>Thundery outbreaks possible</th>\n",
              "    </tr>\n",
              "  </thead>\n",
              "  <tbody>\n",
              "    <tr>\n",
              "      <th>0</th>\n",
              "      <td>30</td>\n",
              "      <td>22</td>\n",
              "      <td>7</td>\n",
              "      <td>4</td>\n",
              "      <td>69</td>\n",
              "      <td>0.0</td>\n",
              "      <td>1011</td>\n",
              "      <td>Sunny</td>\n",
              "      <td>0</td>\n",
              "      <td>0</td>\n",
              "      <td>0</td>\n",
              "      <td>0</td>\n",
              "      <td>0</td>\n",
              "      <td>0</td>\n",
              "      <td>1</td>\n",
              "      <td>0</td>\n",
              "    </tr>\n",
              "    <tr>\n",
              "      <th>1</th>\n",
              "      <td>30</td>\n",
              "      <td>22</td>\n",
              "      <td>7</td>\n",
              "      <td>3</td>\n",
              "      <td>68</td>\n",
              "      <td>0.0</td>\n",
              "      <td>1012</td>\n",
              "      <td>Sunny</td>\n",
              "      <td>0</td>\n",
              "      <td>0</td>\n",
              "      <td>0</td>\n",
              "      <td>0</td>\n",
              "      <td>0</td>\n",
              "      <td>0</td>\n",
              "      <td>1</td>\n",
              "      <td>0</td>\n",
              "    </tr>\n",
              "    <tr>\n",
              "      <th>2</th>\n",
              "      <td>30</td>\n",
              "      <td>22</td>\n",
              "      <td>7</td>\n",
              "      <td>1</td>\n",
              "      <td>68</td>\n",
              "      <td>0.0</td>\n",
              "      <td>1012</td>\n",
              "      <td>Sunny</td>\n",
              "      <td>0</td>\n",
              "      <td>0</td>\n",
              "      <td>0</td>\n",
              "      <td>0</td>\n",
              "      <td>0</td>\n",
              "      <td>0</td>\n",
              "      <td>1</td>\n",
              "      <td>0</td>\n",
              "    </tr>\n",
              "    <tr>\n",
              "      <th>3</th>\n",
              "      <td>31</td>\n",
              "      <td>22</td>\n",
              "      <td>7</td>\n",
              "      <td>8</td>\n",
              "      <td>73</td>\n",
              "      <td>0.0</td>\n",
              "      <td>1011</td>\n",
              "      <td>Sunny</td>\n",
              "      <td>0</td>\n",
              "      <td>0</td>\n",
              "      <td>0</td>\n",
              "      <td>0</td>\n",
              "      <td>0</td>\n",
              "      <td>0</td>\n",
              "      <td>1</td>\n",
              "      <td>0</td>\n",
              "    </tr>\n",
              "    <tr>\n",
              "      <th>4</th>\n",
              "      <td>30</td>\n",
              "      <td>23</td>\n",
              "      <td>7</td>\n",
              "      <td>29</td>\n",
              "      <td>76</td>\n",
              "      <td>0.4</td>\n",
              "      <td>1010</td>\n",
              "      <td>Partly couldy</td>\n",
              "      <td>0</td>\n",
              "      <td>0</td>\n",
              "      <td>0</td>\n",
              "      <td>0</td>\n",
              "      <td>1</td>\n",
              "      <td>0</td>\n",
              "      <td>0</td>\n",
              "      <td>0</td>\n",
              "    </tr>\n",
              "  </tbody>\n",
              "</table>\n",
              "</div>"
            ],
            "text/plain": [
              "   T Max  T Min  Wind  ...  Patchy rain possible  Sunny  Thundery outbreaks possible\n",
              "0     30     22     7  ...                     0      1                            0\n",
              "1     30     22     7  ...                     0      1                            0\n",
              "2     30     22     7  ...                     0      1                            0\n",
              "3     31     22     7  ...                     0      1                            0\n",
              "4     30     23     7  ...                     0      0                            0\n",
              "\n",
              "[5 rows x 16 columns]"
            ]
          },
          "metadata": {
            "tags": []
          },
          "execution_count": 267
        }
      ]
    },
    {
      "cell_type": "markdown",
      "metadata": {
        "id": "RdKmbhdUz0PD"
      },
      "source": [
        "Drop the Weather column, we do not need it anymore  "
      ]
    },
    {
      "cell_type": "code",
      "metadata": {
        "id": "rsxvxPjGh5-i",
        "outputId": "c84ab6cd-9047-4d9f-fae9-fefdfd80ea5f",
        "colab": {
          "base_uri": "https://localhost:8080/",
          "height": 238
        }
      },
      "source": [
        "final = merged.drop(['Weather'],axis ='columns')\n",
        "final.head()"
      ],
      "execution_count": 268,
      "outputs": [
        {
          "output_type": "execute_result",
          "data": {
            "text/html": [
              "<div>\n",
              "<style scoped>\n",
              "    .dataframe tbody tr th:only-of-type {\n",
              "        vertical-align: middle;\n",
              "    }\n",
              "\n",
              "    .dataframe tbody tr th {\n",
              "        vertical-align: top;\n",
              "    }\n",
              "\n",
              "    .dataframe thead th {\n",
              "        text-align: right;\n",
              "    }\n",
              "</style>\n",
              "<table border=\"1\" class=\"dataframe\">\n",
              "  <thead>\n",
              "    <tr style=\"text-align: right;\">\n",
              "      <th></th>\n",
              "      <th>T Max</th>\n",
              "      <th>T Min</th>\n",
              "      <th>Wind</th>\n",
              "      <th>Could</th>\n",
              "      <th>Humidity</th>\n",
              "      <th>Precip</th>\n",
              "      <th>Pressure</th>\n",
              "      <th>Cloudy</th>\n",
              "      <th>Light rain shower</th>\n",
              "      <th>Moderate or heavy rain shower</th>\n",
              "      <th>Overcast</th>\n",
              "      <th>Partly couldy</th>\n",
              "      <th>Patchy rain possible</th>\n",
              "      <th>Sunny</th>\n",
              "      <th>Thundery outbreaks possible</th>\n",
              "    </tr>\n",
              "  </thead>\n",
              "  <tbody>\n",
              "    <tr>\n",
              "      <th>0</th>\n",
              "      <td>30</td>\n",
              "      <td>22</td>\n",
              "      <td>7</td>\n",
              "      <td>4</td>\n",
              "      <td>69</td>\n",
              "      <td>0.0</td>\n",
              "      <td>1011</td>\n",
              "      <td>0</td>\n",
              "      <td>0</td>\n",
              "      <td>0</td>\n",
              "      <td>0</td>\n",
              "      <td>0</td>\n",
              "      <td>0</td>\n",
              "      <td>1</td>\n",
              "      <td>0</td>\n",
              "    </tr>\n",
              "    <tr>\n",
              "      <th>1</th>\n",
              "      <td>30</td>\n",
              "      <td>22</td>\n",
              "      <td>7</td>\n",
              "      <td>3</td>\n",
              "      <td>68</td>\n",
              "      <td>0.0</td>\n",
              "      <td>1012</td>\n",
              "      <td>0</td>\n",
              "      <td>0</td>\n",
              "      <td>0</td>\n",
              "      <td>0</td>\n",
              "      <td>0</td>\n",
              "      <td>0</td>\n",
              "      <td>1</td>\n",
              "      <td>0</td>\n",
              "    </tr>\n",
              "    <tr>\n",
              "      <th>2</th>\n",
              "      <td>30</td>\n",
              "      <td>22</td>\n",
              "      <td>7</td>\n",
              "      <td>1</td>\n",
              "      <td>68</td>\n",
              "      <td>0.0</td>\n",
              "      <td>1012</td>\n",
              "      <td>0</td>\n",
              "      <td>0</td>\n",
              "      <td>0</td>\n",
              "      <td>0</td>\n",
              "      <td>0</td>\n",
              "      <td>0</td>\n",
              "      <td>1</td>\n",
              "      <td>0</td>\n",
              "    </tr>\n",
              "    <tr>\n",
              "      <th>3</th>\n",
              "      <td>31</td>\n",
              "      <td>22</td>\n",
              "      <td>7</td>\n",
              "      <td>8</td>\n",
              "      <td>73</td>\n",
              "      <td>0.0</td>\n",
              "      <td>1011</td>\n",
              "      <td>0</td>\n",
              "      <td>0</td>\n",
              "      <td>0</td>\n",
              "      <td>0</td>\n",
              "      <td>0</td>\n",
              "      <td>0</td>\n",
              "      <td>1</td>\n",
              "      <td>0</td>\n",
              "    </tr>\n",
              "    <tr>\n",
              "      <th>4</th>\n",
              "      <td>30</td>\n",
              "      <td>23</td>\n",
              "      <td>7</td>\n",
              "      <td>29</td>\n",
              "      <td>76</td>\n",
              "      <td>0.4</td>\n",
              "      <td>1010</td>\n",
              "      <td>0</td>\n",
              "      <td>0</td>\n",
              "      <td>0</td>\n",
              "      <td>0</td>\n",
              "      <td>1</td>\n",
              "      <td>0</td>\n",
              "      <td>0</td>\n",
              "      <td>0</td>\n",
              "    </tr>\n",
              "  </tbody>\n",
              "</table>\n",
              "</div>"
            ],
            "text/plain": [
              "   T Max  T Min  Wind  ...  Patchy rain possible  Sunny  Thundery outbreaks possible\n",
              "0     30     22     7  ...                     0      1                            0\n",
              "1     30     22     7  ...                     0      1                            0\n",
              "2     30     22     7  ...                     0      1                            0\n",
              "3     31     22     7  ...                     0      1                            0\n",
              "4     30     23     7  ...                     0      0                            0\n",
              "\n",
              "[5 rows x 15 columns]"
            ]
          },
          "metadata": {
            "tags": []
          },
          "execution_count": 268
        }
      ]
    },
    {
      "cell_type": "markdown",
      "metadata": {
        "id": "ip63lYPy0Ezz"
      },
      "source": [
        "Define X and y axis using the given data set. Here we considered Sunny as the y variable"
      ]
    },
    {
      "cell_type": "code",
      "metadata": {
        "id": "HTxMG14Bprvf"
      },
      "source": [
        "X = final.drop(['Partly couldy','Sunny','Cloudy','Light rain shower','Patchy rain possible','Overcast','Thundery outbreaks possible','Moderate or heavy rain shower'], axis=1)\n",
        "y = final['Sunny']\n"
      ],
      "execution_count": 269,
      "outputs": []
    },
    {
      "cell_type": "markdown",
      "metadata": {
        "id": "xgGYjD071WDG"
      },
      "source": [
        "Split availabe dataset into training and test using  "
      ]
    },
    {
      "cell_type": "code",
      "metadata": {
        "id": "sESYvuxpo3Iw"
      },
      "source": [
        "from sklearn.model_selection import train_test_split\n",
        "X_train, X_test, y_train, y_test = train_test_split(X, y, test_size=0.40, random_state=101)"
      ],
      "execution_count": 270,
      "outputs": []
    },
    {
      "cell_type": "markdown",
      "metadata": {
        "id": "KlXE5dYt1q0u"
      },
      "source": [
        "Import decision tree libary and define regressor as Descision tree regressor"
      ]
    },
    {
      "cell_type": "code",
      "metadata": {
        "id": "ZVJTf4v9pTYc",
        "outputId": "c36a1df4-1990-468a-d83e-cee40d3d8a75",
        "colab": {
          "base_uri": "https://localhost:8080/"
        }
      },
      "source": [
        "from sklearn.tree import DecisionTreeRegressor\n",
        "regressor = DecisionTreeRegressor()\n",
        "regressor.fit(X_train, y_train)"
      ],
      "execution_count": 271,
      "outputs": [
        {
          "output_type": "execute_result",
          "data": {
            "text/plain": [
              "DecisionTreeRegressor(ccp_alpha=0.0, criterion='mse', max_depth=None,\n",
              "                      max_features=None, max_leaf_nodes=None,\n",
              "                      min_impurity_decrease=0.0, min_impurity_split=None,\n",
              "                      min_samples_leaf=1, min_samples_split=2,\n",
              "                      min_weight_fraction_leaf=0.0, presort='deprecated',\n",
              "                      random_state=None, splitter='best')"
            ]
          },
          "metadata": {
            "tags": []
          },
          "execution_count": 271
        }
      ]
    },
    {
      "cell_type": "markdown",
      "metadata": {
        "id": "32GomKUl2Fua"
      },
      "source": [
        "Test accuracy of the trained data set corresponding to the Decision tree"
      ]
    },
    {
      "cell_type": "code",
      "metadata": {
        "id": "YIQjmjTK42jr",
        "outputId": "5267e97e-8599-449a-99fb-de69e0e5be43",
        "colab": {
          "base_uri": "https://localhost:8080/"
        }
      },
      "source": [
        "regressor.score(X_test,y_test)"
      ],
      "execution_count": 272,
      "outputs": [
        {
          "output_type": "execute_result",
          "data": {
            "text/plain": [
              "0.17478260869565232"
            ]
          },
          "metadata": {
            "tags": []
          },
          "execution_count": 272
        }
      ]
    },
    {
      "cell_type": "markdown",
      "metadata": {
        "id": "3MqI4LsV2hph"
      },
      "source": [
        "Prediction"
      ]
    },
    {
      "cell_type": "code",
      "metadata": {
        "id": "yRqe1cj5j9Mq"
      },
      "source": [
        "y_pred = regressor.predict(X_test)"
      ],
      "execution_count": 273,
      "outputs": []
    },
    {
      "cell_type": "code",
      "metadata": {
        "id": "W22vXxU48G7z"
      },
      "source": [
        "from sklearn.metrics import classification_report,confusion_matrix"
      ],
      "execution_count": 274,
      "outputs": []
    },
    {
      "cell_type": "code",
      "metadata": {
        "id": "1sA6a-eA8Tbx",
        "outputId": "6d3c140b-fe63-437a-b5ad-cd15ee9dceba",
        "colab": {
          "base_uri": "https://localhost:8080/"
        }
      },
      "source": [
        "print(confusion_matrix(y_test,y_pred))\n",
        "print('\\n')\n",
        "print(classification_report(y_test,y_pred))"
      ],
      "execution_count": 275,
      "outputs": [
        {
          "output_type": "stream",
          "text": [
            "[[81 19]\n",
            " [ 7 39]]\n",
            "\n",
            "\n",
            "              precision    recall  f1-score   support\n",
            "\n",
            "           0       0.92      0.81      0.86       100\n",
            "           1       0.67      0.85      0.75        46\n",
            "\n",
            "    accuracy                           0.82       146\n",
            "   macro avg       0.80      0.83      0.81       146\n",
            "weighted avg       0.84      0.82      0.83       146\n",
            "\n"
          ],
          "name": "stdout"
        }
      ]
    },
    {
      "cell_type": "code",
      "metadata": {
        "id": "ItgWhNfzkeTR",
        "outputId": "9efa1c2b-24ee-40c1-de67-5bc9186ed57b",
        "colab": {
          "base_uri": "https://localhost:8080/",
          "height": 419
        }
      },
      "source": [
        "df=pd.DataFrame({'Actual':y_test, 'Predicted':y_pred})\n",
        "df"
      ],
      "execution_count": 276,
      "outputs": [
        {
          "output_type": "execute_result",
          "data": {
            "text/html": [
              "<div>\n",
              "<style scoped>\n",
              "    .dataframe tbody tr th:only-of-type {\n",
              "        vertical-align: middle;\n",
              "    }\n",
              "\n",
              "    .dataframe tbody tr th {\n",
              "        vertical-align: top;\n",
              "    }\n",
              "\n",
              "    .dataframe thead th {\n",
              "        text-align: right;\n",
              "    }\n",
              "</style>\n",
              "<table border=\"1\" class=\"dataframe\">\n",
              "  <thead>\n",
              "    <tr style=\"text-align: right;\">\n",
              "      <th></th>\n",
              "      <th>Actual</th>\n",
              "      <th>Predicted</th>\n",
              "    </tr>\n",
              "  </thead>\n",
              "  <tbody>\n",
              "    <tr>\n",
              "      <th>317</th>\n",
              "      <td>0</td>\n",
              "      <td>0.0</td>\n",
              "    </tr>\n",
              "    <tr>\n",
              "      <th>95</th>\n",
              "      <td>0</td>\n",
              "      <td>0.0</td>\n",
              "    </tr>\n",
              "    <tr>\n",
              "      <th>210</th>\n",
              "      <td>0</td>\n",
              "      <td>0.0</td>\n",
              "    </tr>\n",
              "    <tr>\n",
              "      <th>189</th>\n",
              "      <td>1</td>\n",
              "      <td>0.0</td>\n",
              "    </tr>\n",
              "    <tr>\n",
              "      <th>306</th>\n",
              "      <td>0</td>\n",
              "      <td>0.0</td>\n",
              "    </tr>\n",
              "    <tr>\n",
              "      <th>...</th>\n",
              "      <td>...</td>\n",
              "      <td>...</td>\n",
              "    </tr>\n",
              "    <tr>\n",
              "      <th>195</th>\n",
              "      <td>0</td>\n",
              "      <td>0.0</td>\n",
              "    </tr>\n",
              "    <tr>\n",
              "      <th>178</th>\n",
              "      <td>0</td>\n",
              "      <td>0.0</td>\n",
              "    </tr>\n",
              "    <tr>\n",
              "      <th>246</th>\n",
              "      <td>0</td>\n",
              "      <td>0.0</td>\n",
              "    </tr>\n",
              "    <tr>\n",
              "      <th>135</th>\n",
              "      <td>0</td>\n",
              "      <td>0.0</td>\n",
              "    </tr>\n",
              "    <tr>\n",
              "      <th>265</th>\n",
              "      <td>0</td>\n",
              "      <td>0.0</td>\n",
              "    </tr>\n",
              "  </tbody>\n",
              "</table>\n",
              "<p>146 rows × 2 columns</p>\n",
              "</div>"
            ],
            "text/plain": [
              "     Actual  Predicted\n",
              "317       0        0.0\n",
              "95        0        0.0\n",
              "210       0        0.0\n",
              "189       1        0.0\n",
              "306       0        0.0\n",
              "..      ...        ...\n",
              "195       0        0.0\n",
              "178       0        0.0\n",
              "246       0        0.0\n",
              "135       0        0.0\n",
              "265       0        0.0\n",
              "\n",
              "[146 rows x 2 columns]"
            ]
          },
          "metadata": {
            "tags": []
          },
          "execution_count": 276
        }
      ]
    },
    {
      "cell_type": "code",
      "metadata": {
        "id": "Ds4kTl2Xky5k",
        "outputId": "678f1924-c09d-4c3d-c254-39d162b53f6e",
        "colab": {
          "base_uri": "https://localhost:8080/"
        }
      },
      "source": [
        "from sklearn import metrics\n",
        "print('Mean Absolute Error:', metrics.mean_absolute_error(y_test, y_pred))\n",
        "print('Mean Squared Error:', metrics.mean_squared_error(y_test, y_pred))\n",
        "print('Root Mean Squared Error:', np.sqrt(metrics.mean_squared_error(y_test, y_pred)))"
      ],
      "execution_count": 277,
      "outputs": [
        {
          "output_type": "stream",
          "text": [
            "Mean Absolute Error: 0.1780821917808219\n",
            "Mean Squared Error: 0.1780821917808219\n",
            "Root Mean Squared Error: 0.42199785755477703\n"
          ],
          "name": "stdout"
        }
      ]
    },
    {
      "cell_type": "markdown",
      "metadata": {
        "id": "-i6R_qNJ2l7X"
      },
      "source": [
        "Import Random Forest libary "
      ]
    },
    {
      "cell_type": "code",
      "metadata": {
        "id": "_3oUAayMtLvg",
        "outputId": "020df734-5574-4b84-cc58-f0d56bc6a731",
        "colab": {
          "base_uri": "https://localhost:8080/"
        }
      },
      "source": [
        "from sklearn.ensemble import RandomForestClassifier\n",
        "model = RandomForestClassifier(n_estimators=200)\n",
        "model.fit(X_train, y_train)"
      ],
      "execution_count": 278,
      "outputs": [
        {
          "output_type": "execute_result",
          "data": {
            "text/plain": [
              "RandomForestClassifier(bootstrap=True, ccp_alpha=0.0, class_weight=None,\n",
              "                       criterion='gini', max_depth=None, max_features='auto',\n",
              "                       max_leaf_nodes=None, max_samples=None,\n",
              "                       min_impurity_decrease=0.0, min_impurity_split=None,\n",
              "                       min_samples_leaf=1, min_samples_split=2,\n",
              "                       min_weight_fraction_leaf=0.0, n_estimators=200,\n",
              "                       n_jobs=None, oob_score=False, random_state=None,\n",
              "                       verbose=0, warm_start=False)"
            ]
          },
          "metadata": {
            "tags": []
          },
          "execution_count": 278
        }
      ]
    },
    {
      "cell_type": "markdown",
      "metadata": {
        "id": "sI9-1IHC2tq6"
      },
      "source": [
        "Test accuracy of the data set using Random Forest"
      ]
    },
    {
      "cell_type": "code",
      "metadata": {
        "id": "LViSRM52lhxU",
        "outputId": "7a0e92b8-9a2e-42b4-9b8b-e216dc044977",
        "colab": {
          "base_uri": "https://localhost:8080/"
        }
      },
      "source": [
        "\n",
        "model.score(X_test,y_test)"
      ],
      "execution_count": 279,
      "outputs": [
        {
          "output_type": "execute_result",
          "data": {
            "text/plain": [
              "0.910958904109589"
            ]
          },
          "metadata": {
            "tags": []
          },
          "execution_count": 279
        }
      ]
    },
    {
      "cell_type": "code",
      "metadata": {
        "id": "MAmjF5ny9XJJ"
      },
      "source": [
        "prediction = model.predict(X_test)"
      ],
      "execution_count": 280,
      "outputs": []
    },
    {
      "cell_type": "code",
      "metadata": {
        "id": "HXdALRcy9a2N",
        "outputId": "74b8192c-e4ac-4917-b5ea-ff0eea0590f3",
        "colab": {
          "base_uri": "https://localhost:8080/"
        }
      },
      "source": [
        "print(confusion_matrix(y_test,prediction))\n",
        "print('\\n')\n",
        "print(classification_report(y_test,prediction))"
      ],
      "execution_count": 281,
      "outputs": [
        {
          "output_type": "stream",
          "text": [
            "[[94  6]\n",
            " [ 7 39]]\n",
            "\n",
            "\n",
            "              precision    recall  f1-score   support\n",
            "\n",
            "           0       0.93      0.94      0.94       100\n",
            "           1       0.87      0.85      0.86        46\n",
            "\n",
            "    accuracy                           0.91       146\n",
            "   macro avg       0.90      0.89      0.90       146\n",
            "weighted avg       0.91      0.91      0.91       146\n",
            "\n"
          ],
          "name": "stdout"
        }
      ]
    },
    {
      "cell_type": "code",
      "metadata": {
        "id": "iIG-IjkJ7P0_",
        "outputId": "faa3f16f-b073-40ff-ce61-6dc6023c3676",
        "colab": {
          "base_uri": "https://localhost:8080/"
        }
      },
      "source": [
        "\n",
        "from tabulate import tabulate\n",
        "probabilities = model.predict_proba(X_test)\n",
        "\n",
        "print(tabulate(probabilities, headers='keys', tablefmt='psql'))\n",
        "\n",
        "\n"
      ],
      "execution_count": 282,
      "outputs": [
        {
          "output_type": "stream",
          "text": [
            "+-------+-------+\n",
            "|     0 |     1 |\n",
            "|-------+-------|\n",
            "| 0.99  | 0.01  |\n",
            "| 0.7   | 0.3   |\n",
            "| 0.975 | 0.025 |\n",
            "| 0.695 | 0.305 |\n",
            "| 0.95  | 0.05  |\n",
            "| 0.66  | 0.34  |\n",
            "| 0.885 | 0.115 |\n",
            "| 0.505 | 0.495 |\n",
            "| 1     | 0     |\n",
            "| 0.965 | 0.035 |\n",
            "| 0.02  | 0.98  |\n",
            "| 0.895 | 0.105 |\n",
            "| 0.935 | 0.065 |\n",
            "| 0.965 | 0.035 |\n",
            "| 0.975 | 0.025 |\n",
            "| 0.185 | 0.815 |\n",
            "| 0.975 | 0.025 |\n",
            "| 0.63  | 0.37  |\n",
            "| 0.38  | 0.62  |\n",
            "| 0     | 1     |\n",
            "| 0.11  | 0.89  |\n",
            "| 0.59  | 0.41  |\n",
            "| 0.11  | 0.89  |\n",
            "| 0.275 | 0.725 |\n",
            "| 0.93  | 0.07  |\n",
            "| 1     | 0     |\n",
            "| 0.73  | 0.27  |\n",
            "| 0.005 | 0.995 |\n",
            "| 0.905 | 0.095 |\n",
            "| 0.505 | 0.495 |\n",
            "| 0.84  | 0.16  |\n",
            "| 0.99  | 0.01  |\n",
            "| 0.925 | 0.075 |\n",
            "| 0.205 | 0.795 |\n",
            "| 1     | 0     |\n",
            "| 1     | 0     |\n",
            "| 0.37  | 0.63  |\n",
            "| 1     | 0     |\n",
            "| 1     | 0     |\n",
            "| 0.09  | 0.91  |\n",
            "| 0.615 | 0.385 |\n",
            "| 0.005 | 0.995 |\n",
            "| 0.88  | 0.12  |\n",
            "| 0.155 | 0.845 |\n",
            "| 0.795 | 0.205 |\n",
            "| 0.1   | 0.9   |\n",
            "| 0.715 | 0.285 |\n",
            "| 0.78  | 0.22  |\n",
            "| 0.16  | 0.84  |\n",
            "| 1     | 0     |\n",
            "| 0.73  | 0.27  |\n",
            "| 0.09  | 0.91  |\n",
            "| 0.99  | 0.01  |\n",
            "| 0.03  | 0.97  |\n",
            "| 0.04  | 0.96  |\n",
            "| 0.19  | 0.81  |\n",
            "| 0.02  | 0.98  |\n",
            "| 0.035 | 0.965 |\n",
            "| 1     | 0     |\n",
            "| 0.68  | 0.32  |\n",
            "| 0.165 | 0.835 |\n",
            "| 0.045 | 0.955 |\n",
            "| 0.985 | 0.015 |\n",
            "| 0.725 | 0.275 |\n",
            "| 0.715 | 0.285 |\n",
            "| 0.915 | 0.085 |\n",
            "| 0.995 | 0.005 |\n",
            "| 0.785 | 0.215 |\n",
            "| 0.305 | 0.695 |\n",
            "| 0.01  | 0.99  |\n",
            "| 0.995 | 0.005 |\n",
            "| 0.96  | 0.04  |\n",
            "| 1     | 0     |\n",
            "| 0.405 | 0.595 |\n",
            "| 0.02  | 0.98  |\n",
            "| 0.755 | 0.245 |\n",
            "| 0.045 | 0.955 |\n",
            "| 0.905 | 0.095 |\n",
            "| 0.995 | 0.005 |\n",
            "| 0.96  | 0.04  |\n",
            "| 0.88  | 0.12  |\n",
            "| 0.02  | 0.98  |\n",
            "| 0.875 | 0.125 |\n",
            "| 0.105 | 0.895 |\n",
            "| 1     | 0     |\n",
            "| 0.015 | 0.985 |\n",
            "| 0.005 | 0.995 |\n",
            "| 0.78  | 0.22  |\n",
            "| 0.995 | 0.005 |\n",
            "| 0.035 | 0.965 |\n",
            "| 0.625 | 0.375 |\n",
            "| 1     | 0     |\n",
            "| 0.94  | 0.06  |\n",
            "| 0.92  | 0.08  |\n",
            "| 0.1   | 0.9   |\n",
            "| 1     | 0     |\n",
            "| 0.135 | 0.865 |\n",
            "| 0.995 | 0.005 |\n",
            "| 0.02  | 0.98  |\n",
            "| 0.005 | 0.995 |\n",
            "| 0.885 | 0.115 |\n",
            "| 0.935 | 0.065 |\n",
            "| 0.075 | 0.925 |\n",
            "| 0.99  | 0.01  |\n",
            "| 0.63  | 0.37  |\n",
            "| 0.895 | 0.105 |\n",
            "| 0     | 1     |\n",
            "| 1     | 0     |\n",
            "| 1     | 0     |\n",
            "| 0.65  | 0.35  |\n",
            "| 0.62  | 0.38  |\n",
            "| 0.82  | 0.18  |\n",
            "| 1     | 0     |\n",
            "| 0.005 | 0.995 |\n",
            "| 0.95  | 0.05  |\n",
            "| 0.975 | 0.025 |\n",
            "| 0.995 | 0.005 |\n",
            "| 0.745 | 0.255 |\n",
            "| 0.86  | 0.14  |\n",
            "| 0.415 | 0.585 |\n",
            "| 0.73  | 0.27  |\n",
            "| 0.89  | 0.11  |\n",
            "| 0.88  | 0.12  |\n",
            "| 0     | 1     |\n",
            "| 0.885 | 0.115 |\n",
            "| 1     | 0     |\n",
            "| 0.995 | 0.005 |\n",
            "| 0.67  | 0.33  |\n",
            "| 0.98  | 0.02  |\n",
            "| 0.025 | 0.975 |\n",
            "| 0.92  | 0.08  |\n",
            "| 0.155 | 0.845 |\n",
            "| 0.975 | 0.025 |\n",
            "| 0.79  | 0.21  |\n",
            "| 0.99  | 0.01  |\n",
            "| 0.515 | 0.485 |\n",
            "| 0.99  | 0.01  |\n",
            "| 0.995 | 0.005 |\n",
            "| 0.495 | 0.505 |\n",
            "| 0.7   | 0.3   |\n",
            "| 0.82  | 0.18  |\n",
            "| 1     | 0     |\n",
            "| 1     | 0     |\n",
            "| 1     | 0     |\n",
            "| 0.985 | 0.015 |\n",
            "| 0.995 | 0.005 |\n",
            "+-------+-------+\n"
          ],
          "name": "stdout"
        }
      ]
    },
    {
      "cell_type": "code",
      "metadata": {
        "id": "5kSX5Flb80BO"
      },
      "source": [
        ""
      ],
      "execution_count": 282,
      "outputs": []
    }
  ]
}